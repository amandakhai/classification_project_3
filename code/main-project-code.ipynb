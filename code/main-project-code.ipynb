{
 "cells": [
  {
   "cell_type": "markdown",
   "metadata": {},
   "source": [
    "# Project 3: Web APIs & NLP"
   ]
  },
  {
   "cell_type": "markdown",
   "metadata": {},
   "source": [
    "### I. Problem Statement"
   ]
  },
  {
   "cell_type": "markdown",
   "metadata": {},
   "source": [
    "A legal firm is looking to create a contact form for their pro-bono legal clinic’s website. I have been hired to create a machine learning classification model for this new feature that would help filter out non-legal inquiries."
   ]
  },
  {
   "cell_type": "markdown",
   "metadata": {},
   "source": [
    "### II. Importing Libraries"
   ]
  },
  {
   "cell_type": "code",
   "execution_count": 1,
   "metadata": {},
   "outputs": [],
   "source": [
    "import re\n",
    "import time\n",
    "import datetime\n",
    "import requests\n",
    "import numpy as np\n",
    "import pandas as pd\n",
    "import datetime as dt\n",
    "import seaborn as sns\n",
    "from sklearn.svm import SVC\n",
    "try:\n",
    "    import cPickle as pickle\n",
    "except ImportError: \n",
    "    import pickle\n",
    "import matplotlib.pyplot as plt\n",
    "from sklearn.pipeline import Pipeline\n",
    "from sklearn.feature_extraction import text \n",
    "from sklearn.naive_bayes import MultinomialNB\n",
    "from sklearn.preprocessing import StandardScaler\n",
    "from sklearn.linear_model import LogisticRegression\n",
    "from sklearn.model_selection import train_test_split\n",
    "from sklearn.tree import DecisionTreeClassifier, plot_tree\n",
    "from nltk.sentiment.vader import SentimentIntensityAnalyzer\n",
    "from sklearn.ensemble import RandomForestClassifier, ExtraTreesClassifier\n",
    "from sklearn.feature_extraction.text import CountVectorizer, TfidfVectorizer\n",
    "from sklearn.metrics import confusion_matrix, plot_confusion_matrix, roc_auc_score\n",
    "\n",
    "pd.options.display.max_colwidth = 200"
   ]
  },
  {
   "cell_type": "markdown",
   "metadata": {},
   "source": [
    "### III. Scraping Reddit and Reading-in Data"
   ]
  },
  {
   "cell_type": "code",
   "execution_count": 2,
   "metadata": {},
   "outputs": [],
   "source": [
    "# Thanks Gwen for the example!\n",
    "\n",
    "def get_reddit_submission(subreddit,kind=\"submission\",is_self=True):\n",
    "    \n",
    "    '''Function takes in 3 parameters; name of subreddit, kind of data to be scraped (default submission)\n",
    "    and filters out non-self created submission by default (can be filtered to is_self = False) and returns\n",
    "    csv file of 5,000 unique reddit posts from the subreddit'''\n",
    "    \n",
    "    # columns to be saved onto dataframe\n",
    "    subfield = ['title', 'selftext', 'subreddit', 'created_utc', 'author', 'num_comments', 'score']\n",
    "    base_url = f'https://api.pushshift.io/reddit/search/{kind}'\n",
    "    ls = []\n",
    "    \n",
    "    while len(ls) < 5000:\n",
    "        if len(ls) == 0:\n",
    "            # pulling the max number of posts per iteration where selftext / body post have not been removed by moderator\n",
    "            url = f'{base_url}?subreddit={subreddit}&size=100&is_self={is_self}&selftext:not=[removed]'\n",
    "        else: \n",
    "            # pulling posts with the same criteria above posted before the last post pulled and appended\n",
    "            url = f'{base_url}?subreddit={subreddit}&size=100&is_self={is_self}&selftext:not=[removed]&before={ls[-1][\"created_utc\"]}'\n",
    "        # get json formatting of data\n",
    "        res = requests.get(url)\n",
    "        try: \n",
    "            assert(res.status_code == 200)\n",
    "            json = res.json()['data']\n",
    "            for dic in json:\n",
    "                if dic not in ls:\n",
    "                    ls.append(dic) # appending only unique posts\n",
    "                else:\n",
    "                    pass\n",
    "            print(f'Posts collected: {len(ls)}')\n",
    "            time.sleep(2)\n",
    "        except:\n",
    "            print(f'Error Status Code: {res.status_code}')\n",
    "\n",
    "    df = pd.DataFrame(ls) # make dataframe out of lidt of dictionaries of subreddit post data\n",
    "    df = df[subfield] # only taking important columns\n",
    "    df.drop_duplicates(inplace = True) # sanity to remove potential duplicates\n",
    "    df['timestamp'] = df[\"created_utc\"].map(dt.date.fromtimestamp) # utc converted to timestamp\n",
    "    df.drop(columns=[\"created_utc\"],inplace=True) # dropping created_utc column\n",
    "    df = df.reset_index(drop=True) # reset index\n",
    "    return df.to_csv(f'./dataset/{subreddit}.csv',index=False) # returns csv file stored in dataset folder"
   ]
  },
  {
   "cell_type": "code",
   "execution_count": 3,
   "metadata": {
    "scrolled": true
   },
   "outputs": [],
   "source": [
    "# # get most recent 5,000 posts on r/LegalAdvice.\n",
    "# # note that this is commented out so that the data used within the models do not constantly change\n",
    "# get_reddit_submission(\"legaladvice\")"
   ]
  },
  {
   "cell_type": "code",
   "execution_count": 4,
   "metadata": {},
   "outputs": [
    {
     "data": {
      "text/plain": [
       "(5000, 7)"
      ]
     },
     "execution_count": 4,
     "metadata": {},
     "output_type": "execute_result"
    }
   ],
   "source": [
    "# reading in legal advice data\n",
    "legal = pd.read_csv('../dataset/legaladvice.csv')\n",
    "legal.shape"
   ]
  },
  {
   "cell_type": "code",
   "execution_count": 5,
   "metadata": {
    "scrolled": true
   },
   "outputs": [],
   "source": [
    "# # get most recent 5,000 posts on r/Malicious Compliance\n",
    "# # note that this is commented out so that the data used within the models do not constantly change\n",
    "# get_reddit_submission(\"maliciouscompliance\")"
   ]
  },
  {
   "cell_type": "code",
   "execution_count": 6,
   "metadata": {},
   "outputs": [
    {
     "data": {
      "text/plain": [
       "(5000, 7)"
      ]
     },
     "execution_count": 6,
     "metadata": {},
     "output_type": "execute_result"
    }
   ],
   "source": [
    "# reading in malicious compliance data\n",
    "mc = pd.read_csv('../dataset/maliciouscompliance.csv')\n",
    "mc.shape"
   ]
  },
  {
   "cell_type": "markdown",
   "metadata": {},
   "source": [
    "### III. Data Cleaning and Pre-Processing"
   ]
  },
  {
   "cell_type": "markdown",
   "metadata": {},
   "source": [
    "For the purposes of the analysis, we must first combine the two subreddit dataframes, as seen below:"
   ]
  },
  {
   "cell_type": "code",
   "execution_count": 7,
   "metadata": {},
   "outputs": [
    {
     "data": {
      "text/plain": [
       "(10000, 7)"
      ]
     },
     "execution_count": 7,
     "metadata": {},
     "output_type": "execute_result"
    }
   ],
   "source": [
    "joint_df = pd.concat([legal,mc],axis=0)\n",
    "joint_df = joint_df.reset_index(drop=True)\n",
    "\n",
    "joint_df.shape"
   ]
  },
  {
   "cell_type": "markdown",
   "metadata": {},
   "source": [
    "Because the model requested needs to be one that can identify legal problems, we create a binary classification column with our target class of 1 for r/LegalAdvice posts and 0 for r/MaliciousCompliance posts."
   ]
  },
  {
   "cell_type": "code",
   "execution_count": 8,
   "metadata": {},
   "outputs": [],
   "source": [
    "joint_df[\"class\"] = [1 if cell == \"legaladvice\" else 0 for cell in joint_df[\"subreddit\"]]\n",
    "joint_df.drop(columns=[\"subreddit\"], inplace = True)"
   ]
  },
  {
   "cell_type": "code",
   "execution_count": 9,
   "metadata": {},
   "outputs": [
    {
     "data": {
      "text/html": [
       "<div>\n",
       "<style scoped>\n",
       "    .dataframe tbody tr th:only-of-type {\n",
       "        vertical-align: middle;\n",
       "    }\n",
       "\n",
       "    .dataframe tbody tr th {\n",
       "        vertical-align: top;\n",
       "    }\n",
       "\n",
       "    .dataframe thead th {\n",
       "        text-align: right;\n",
       "    }\n",
       "</style>\n",
       "<table border=\"1\" class=\"dataframe\">\n",
       "  <thead>\n",
       "    <tr style=\"text-align: right;\">\n",
       "      <th></th>\n",
       "      <th>title</th>\n",
       "      <th>selftext</th>\n",
       "      <th>author</th>\n",
       "      <th>num_comments</th>\n",
       "      <th>score</th>\n",
       "      <th>timestamp</th>\n",
       "      <th>class</th>\n",
       "    </tr>\n",
       "  </thead>\n",
       "  <tbody>\n",
       "    <tr>\n",
       "      <th>0</th>\n",
       "      <td>[Serious] MA - father just backed into GFs car.</td>\n",
       "      <td>my father who shouldn't be driving just backed his truck up and hit GFs car about a hour ago, hes angry she was there and shes angry he hit her.  \\n\\n\\nthis takes place at our home and in the driv...</td>\n",
       "      <td>TJzzz</td>\n",
       "      <td>0</td>\n",
       "      <td>1</td>\n",
       "      <td>2021-04-23</td>\n",
       "      <td>1</td>\n",
       "    </tr>\n",
       "    <tr>\n",
       "      <th>1</th>\n",
       "      <td>Can I return a private party purchase of a boat?</td>\n",
       "      <td>I purchased a boat in Oregon and found out the seller lied about a handful of things. Can I return the boat?</td>\n",
       "      <td>Vast-Lost</td>\n",
       "      <td>0</td>\n",
       "      <td>1</td>\n",
       "      <td>2021-04-23</td>\n",
       "      <td>1</td>\n",
       "    </tr>\n",
       "    <tr>\n",
       "      <th>2</th>\n",
       "      <td>Can the police arrest you for recording a crime scene they're working on? (TX)</td>\n",
       "      <td>I'm a manager at a restaurant. Someone got shot in the parking lot at my job. The police shows up and closes down the entire place. I call my boss to let them know that we needed to close because ...</td>\n",
       "      <td>PuzzleheadedTaste726</td>\n",
       "      <td>0</td>\n",
       "      <td>1</td>\n",
       "      <td>2021-04-23</td>\n",
       "      <td>1</td>\n",
       "    </tr>\n",
       "    <tr>\n",
       "      <th>3</th>\n",
       "      <td>Are hospitals required to health screen/temp check employees?</td>\n",
       "      <td>Hospital I work at has no such regulations regarding COVID.</td>\n",
       "      <td>forrborne</td>\n",
       "      <td>0</td>\n",
       "      <td>1</td>\n",
       "      <td>2021-04-23</td>\n",
       "      <td>1</td>\n",
       "    </tr>\n",
       "    <tr>\n",
       "      <th>4</th>\n",
       "      <td>Settling a minor fender bender without insurance (FL)</td>\n",
       "      <td>I got rear ended and the damage to my car is very minimal—I think. It looks like the bumper just popped out a bit and there’s a few scratches. My car is also an old beater, a 2008 civic that is in...</td>\n",
       "      <td>pleing1</td>\n",
       "      <td>0</td>\n",
       "      <td>1</td>\n",
       "      <td>2021-04-23</td>\n",
       "      <td>1</td>\n",
       "    </tr>\n",
       "  </tbody>\n",
       "</table>\n",
       "</div>"
      ],
      "text/plain": [
       "                                                                            title  \\\n",
       "0                                 [Serious] MA - father just backed into GFs car.   \n",
       "1                                Can I return a private party purchase of a boat?   \n",
       "2  Can the police arrest you for recording a crime scene they're working on? (TX)   \n",
       "3                   Are hospitals required to health screen/temp check employees?   \n",
       "4                           Settling a minor fender bender without insurance (FL)   \n",
       "\n",
       "                                                                                                                                                                                                  selftext  \\\n",
       "0  my father who shouldn't be driving just backed his truck up and hit GFs car about a hour ago, hes angry she was there and shes angry he hit her.  \\n\\n\\nthis takes place at our home and in the driv...   \n",
       "1                                                                                             I purchased a boat in Oregon and found out the seller lied about a handful of things. Can I return the boat?   \n",
       "2  I'm a manager at a restaurant. Someone got shot in the parking lot at my job. The police shows up and closes down the entire place. I call my boss to let them know that we needed to close because ...   \n",
       "3                                                                                                                                              Hospital I work at has no such regulations regarding COVID.   \n",
       "4  I got rear ended and the damage to my car is very minimal—I think. It looks like the bumper just popped out a bit and there’s a few scratches. My car is also an old beater, a 2008 civic that is in...   \n",
       "\n",
       "                 author  num_comments  score   timestamp  class  \n",
       "0                 TJzzz             0      1  2021-04-23      1  \n",
       "1             Vast-Lost             0      1  2021-04-23      1  \n",
       "2  PuzzleheadedTaste726             0      1  2021-04-23      1  \n",
       "3             forrborne             0      1  2021-04-23      1  \n",
       "4               pleing1             0      1  2021-04-23      1  "
      ]
     },
     "execution_count": 9,
     "metadata": {},
     "output_type": "execute_result"
    }
   ],
   "source": [
    "joint_df.head()"
   ]
  },
  {
   "cell_type": "markdown",
   "metadata": {},
   "source": [
    "#### Checking for nulls"
   ]
  },
  {
   "cell_type": "markdown",
   "metadata": {},
   "source": [
    "There are 250 null values for selftext, which means there are 250 title only posts. Understanding that this may become an issue when combining both title and selftext into one document (because adding Nonetype to a string returns None), nulls are to be replaced with empty strings (\"\")."
   ]
  },
  {
   "cell_type": "code",
   "execution_count": 10,
   "metadata": {},
   "outputs": [
    {
     "data": {
      "text/plain": [
       "title             0\n",
       "selftext        250\n",
       "author            0\n",
       "num_comments      0\n",
       "score             0\n",
       "timestamp         0\n",
       "class             0\n",
       "dtype: int64"
      ]
     },
     "execution_count": 10,
     "metadata": {},
     "output_type": "execute_result"
    }
   ],
   "source": [
    "joint_df.isnull().sum()"
   ]
  },
  {
   "cell_type": "code",
   "execution_count": 11,
   "metadata": {},
   "outputs": [
    {
     "data": {
      "text/html": [
       "<div>\n",
       "<style scoped>\n",
       "    .dataframe tbody tr th:only-of-type {\n",
       "        vertical-align: middle;\n",
       "    }\n",
       "\n",
       "    .dataframe tbody tr th {\n",
       "        vertical-align: top;\n",
       "    }\n",
       "\n",
       "    .dataframe thead th {\n",
       "        text-align: right;\n",
       "    }\n",
       "</style>\n",
       "<table border=\"1\" class=\"dataframe\">\n",
       "  <thead>\n",
       "    <tr style=\"text-align: right;\">\n",
       "      <th></th>\n",
       "      <th>title</th>\n",
       "      <th>selftext</th>\n",
       "      <th>author</th>\n",
       "      <th>num_comments</th>\n",
       "      <th>score</th>\n",
       "      <th>timestamp</th>\n",
       "      <th>class</th>\n",
       "    </tr>\n",
       "  </thead>\n",
       "  <tbody>\n",
       "    <tr>\n",
       "      <th>5</th>\n",
       "      <td>Quick lane didnt put the oil filter on right and seized the engine. It's a custom engine. Their filter is sitting on my skid plate. Should I be trying to settle with them for the amount it would t...</td>\n",
       "      <td>NaN</td>\n",
       "      <td>xJD88x</td>\n",
       "      <td>0</td>\n",
       "      <td>1</td>\n",
       "      <td>2021-04-23</td>\n",
       "      <td>1</td>\n",
       "    </tr>\n",
       "    <tr>\n",
       "      <th>92</th>\n",
       "      <td>Buy LAC now to make rich</td>\n",
       "      <td>NaN</td>\n",
       "      <td>Bull-Start</td>\n",
       "      <td>0</td>\n",
       "      <td>1</td>\n",
       "      <td>2021-04-23</td>\n",
       "      <td>1</td>\n",
       "    </tr>\n",
       "    <tr>\n",
       "      <th>132</th>\n",
       "      <td>Does the abuse of lizards (not pet lizards, like the kind you’d see outside) count as animal abuse?</td>\n",
       "      <td>NaN</td>\n",
       "      <td>Neil-Ward</td>\n",
       "      <td>1</td>\n",
       "      <td>1</td>\n",
       "      <td>2021-04-23</td>\n",
       "      <td>1</td>\n",
       "    </tr>\n",
       "    <tr>\n",
       "      <th>140</th>\n",
       "      <td>I was involved in an injury accident due to faulty brakes on an e-scooter I purchased recently. The vendor is refusing to repair the scooter and is claiming that the accident was my fault even tho...</td>\n",
       "      <td>NaN</td>\n",
       "      <td>LovelyCaramel</td>\n",
       "      <td>2</td>\n",
       "      <td>1</td>\n",
       "      <td>2021-04-23</td>\n",
       "      <td>1</td>\n",
       "    </tr>\n",
       "    <tr>\n",
       "      <th>157</th>\n",
       "      <td>Is it illegal to create/buy/possess a fake COVID-19 vaccination record card?</td>\n",
       "      <td>NaN</td>\n",
       "      <td>sugitime</td>\n",
       "      <td>4</td>\n",
       "      <td>1</td>\n",
       "      <td>2021-04-23</td>\n",
       "      <td>1</td>\n",
       "    </tr>\n",
       "  </tbody>\n",
       "</table>\n",
       "</div>"
      ],
      "text/plain": [
       "                                                                                                                                                                                                       title  \\\n",
       "5    Quick lane didnt put the oil filter on right and seized the engine. It's a custom engine. Their filter is sitting on my skid plate. Should I be trying to settle with them for the amount it would t...   \n",
       "92                                                                                                                                                                                  Buy LAC now to make rich   \n",
       "132                                                                                                      Does the abuse of lizards (not pet lizards, like the kind you’d see outside) count as animal abuse?   \n",
       "140  I was involved in an injury accident due to faulty brakes on an e-scooter I purchased recently. The vendor is refusing to repair the scooter and is claiming that the accident was my fault even tho...   \n",
       "157                                                                                                                             Is it illegal to create/buy/possess a fake COVID-19 vaccination record card?   \n",
       "\n",
       "    selftext         author  num_comments  score   timestamp  class  \n",
       "5        NaN         xJD88x             0      1  2021-04-23      1  \n",
       "92       NaN     Bull-Start             0      1  2021-04-23      1  \n",
       "132      NaN      Neil-Ward             1      1  2021-04-23      1  \n",
       "140      NaN  LovelyCaramel             2      1  2021-04-23      1  \n",
       "157      NaN       sugitime             4      1  2021-04-23      1  "
      ]
     },
     "execution_count": 11,
     "metadata": {},
     "output_type": "execute_result"
    }
   ],
   "source": [
    "joint_df[joint_df[\"selftext\"].isna()].head()"
   ]
  },
  {
   "cell_type": "code",
   "execution_count": 12,
   "metadata": {},
   "outputs": [
    {
     "data": {
      "text/plain": [
       "title           0\n",
       "selftext        0\n",
       "author          0\n",
       "num_comments    0\n",
       "score           0\n",
       "timestamp       0\n",
       "class           0\n",
       "dtype: int64"
      ]
     },
     "execution_count": 12,
     "metadata": {},
     "output_type": "execute_result"
    }
   ],
   "source": [
    "joint_df[\"selftext\"].fillna(\"\",inplace=True)\n",
    "joint_df.isnull().sum()"
   ]
  },
  {
   "cell_type": "markdown",
   "metadata": {},
   "source": [
    "#### Removing / replacing unusual characters / text"
   ]
  },
  {
   "cell_type": "markdown",
   "metadata": {},
   "source": [
    "Testing RegEx combinations on the following [site](https://regex101.com), we were able to figure out how to replace / remove particular non-alphanumeric characters the best way possible, without removing ones that would be valuable for within the text (i.e. periods between numbers used to show decimal place or hyphenated words). We were also able to replace emojis to text using the *convert_emojis_to_word* function below."
   ]
  },
  {
   "cell_type": "code",
   "execution_count": 13,
   "metadata": {},
   "outputs": [],
   "source": [
    "# replace emoji with text\n",
    "# source: https://studymachinelearning.com/text-preprocessing-handle-emoji-emoticon/ (Thanks Amy!)\n",
    "with open('../dataset/Emoji_Dict.p', 'rb') as fp:\n",
    "    Emoji_Dict = pickle.load(fp)\n",
    "Emoji_Dict = {v: k for k, v in Emoji_Dict.items()}\n",
    "\n",
    "def convert_emojis_to_word(text):\n",
    "    for emot in Emoji_Dict:\n",
    "        text = re.sub(r'('+emot+')', \"_\".join(Emoji_Dict[emot].replace(\",\",\"\").replace(\":\",\"\").split()), text)\n",
    "    return text"
   ]
  },
  {
   "cell_type": "code",
   "execution_count": 14,
   "metadata": {},
   "outputs": [
    {
     "name": "stdout",
     "output_type": "stream",
     "text": [
      "CPU times: user 17min 33s, sys: 1.76 s, total: 17min 34s\n",
      "Wall time: 17min 35s\n"
     ]
    }
   ],
   "source": [
    "%%time\n",
    "for column in [\"title\",\"selftext\"]:\n",
    "    # replace emojis into words\n",
    "    joint_df[column] = joint_df[column].map(convert_emojis_to_word)\n",
    "    # removing link\n",
    "    joint_df[column] = joint_df[column].replace(\"https://[\\S]+\",\"\",regex=True)\n",
    "    joint_df[column] = joint_df[column].replace(\"http://[\\S]+\",\"\",regex=True)\n",
    "    joint_df[column] = joint_df[column].replace(\"www.[\\S]+\",\"\",regex=True)\n",
    "    # removing character code for a Zero-witdh space\n",
    "    joint_df[column] = joint_df[column].replace(\"&amp;#x200B;\",\"\",regex=True).replace(\"\\xa0\",\" \",regex=True)\n",
    "    # replacing line breaks with space\n",
    "    joint_df[column] = joint_df[column].replace(\"\\n\",\" \",regex=True)\n",
    "    # replace % with -pct due to RegEx\n",
    "    joint_df[column] = joint_df[column].replace(\"%\",\"-pct\",regex=True)\n",
    "    # replace + with plus due to RegEx\n",
    "    joint_df[column] = joint_df[column].replace(\"\\+\",\"plus\",regex=True)\n",
    "    # replace [ with space due to RegEx\n",
    "    joint_df[column] = joint_df[column].replace(\"\\[\",\" \",regex=True)\n",
    "    # replace ) with space due to RegEx\n",
    "    joint_df[column] = joint_df[column].replace(\"\\)\",\" \",regex=True)\n",
    "    # replace — with space due to RegEx\n",
    "    joint_df[column] = joint_df[column].replace(\"—\",\" \",regex=True)\n",
    "    # replacing some common symbols\n",
    "    joint_df[column] = joint_df[column].replace(\"&lt;\",\"less_than_sign\",regex=True).replace(\"&gt;\",\"greater_than_sign\",regex=True).replace(\"&le;\",\"less_than_or_equals_to_sign\",regex=True).replace(\"&ge;\",\"greater_than_or_equals_to_sign\",regex=True)\n",
    "    # remove non-alphanumeric characters that isn't a value (i.e. decimal places, commas within numbers, etc.)\n",
    "    joint_df[column] = joint_df[column].replace(\"\\W+[^A-z0-9#$%]\",\" \",regex=True)\n",
    "    joint_df[column] = joint_df[column].map(lambda x: x[:-1] if x != \"\" and x[-1] in [\"?\",\".\",'\"',\"!\",\":\"] else x)"
   ]
  },
  {
   "cell_type": "code",
   "execution_count": 15,
   "metadata": {},
   "outputs": [
    {
     "data": {
      "text/html": [
       "<div>\n",
       "<style scoped>\n",
       "    .dataframe tbody tr th:only-of-type {\n",
       "        vertical-align: middle;\n",
       "    }\n",
       "\n",
       "    .dataframe tbody tr th {\n",
       "        vertical-align: top;\n",
       "    }\n",
       "\n",
       "    .dataframe thead th {\n",
       "        text-align: right;\n",
       "    }\n",
       "</style>\n",
       "<table border=\"1\" class=\"dataframe\">\n",
       "  <thead>\n",
       "    <tr style=\"text-align: right;\">\n",
       "      <th></th>\n",
       "      <th>title</th>\n",
       "      <th>selftext</th>\n",
       "      <th>author</th>\n",
       "      <th>num_comments</th>\n",
       "      <th>score</th>\n",
       "      <th>timestamp</th>\n",
       "      <th>class</th>\n",
       "    </tr>\n",
       "  </thead>\n",
       "  <tbody>\n",
       "    <tr>\n",
       "      <th>0</th>\n",
       "      <td>Serious MA father just backed into GFs car</td>\n",
       "      <td>my father who shouldn't be driving just backed his truck up and hit GFs car about a hour ago hes angry she was there and shes angry he hit her this takes place at our home and in the driveway GFs ...</td>\n",
       "      <td>TJzzz</td>\n",
       "      <td>0</td>\n",
       "      <td>1</td>\n",
       "      <td>2021-04-23</td>\n",
       "      <td>1</td>\n",
       "    </tr>\n",
       "    <tr>\n",
       "      <th>1</th>\n",
       "      <td>Can I return a private party purchase of a boat</td>\n",
       "      <td>I purchased a boat in Oregon and found out the seller lied about a handful of things Can I return the boat</td>\n",
       "      <td>Vast-Lost</td>\n",
       "      <td>0</td>\n",
       "      <td>1</td>\n",
       "      <td>2021-04-23</td>\n",
       "      <td>1</td>\n",
       "    </tr>\n",
       "    <tr>\n",
       "      <th>2</th>\n",
       "      <td>Can the police arrest you for recording a crime scene they're working on TX</td>\n",
       "      <td>I'm a manager at a restaurant Someone got shot in the parking lot at my job The police shows up and closes down the entire place I call my boss to let them know that we needed to close because of ...</td>\n",
       "      <td>PuzzleheadedTaste726</td>\n",
       "      <td>0</td>\n",
       "      <td>1</td>\n",
       "      <td>2021-04-23</td>\n",
       "      <td>1</td>\n",
       "    </tr>\n",
       "    <tr>\n",
       "      <th>3</th>\n",
       "      <td>Are hospitals required to health screen/temp check employees</td>\n",
       "      <td>Hospital I work at has no such regulations regarding COVID</td>\n",
       "      <td>forrborne</td>\n",
       "      <td>0</td>\n",
       "      <td>1</td>\n",
       "      <td>2021-04-23</td>\n",
       "      <td>1</td>\n",
       "    </tr>\n",
       "    <tr>\n",
       "      <th>4</th>\n",
       "      <td>Settling a minor fender bender without insurance FL</td>\n",
       "      <td>I got rear ended and the damage to my car is very minimal I think It looks like the bumper just popped out a bit and there’s a few scratches My car is also an old beater a 2008 civic that is in re...</td>\n",
       "      <td>pleing1</td>\n",
       "      <td>0</td>\n",
       "      <td>1</td>\n",
       "      <td>2021-04-23</td>\n",
       "      <td>1</td>\n",
       "    </tr>\n",
       "  </tbody>\n",
       "</table>\n",
       "</div>"
      ],
      "text/plain": [
       "                                                                          title  \\\n",
       "0                                    Serious MA father just backed into GFs car   \n",
       "1                               Can I return a private party purchase of a boat   \n",
       "2  Can the police arrest you for recording a crime scene they're working on TX    \n",
       "3                  Are hospitals required to health screen/temp check employees   \n",
       "4                          Settling a minor fender bender without insurance FL    \n",
       "\n",
       "                                                                                                                                                                                                  selftext  \\\n",
       "0  my father who shouldn't be driving just backed his truck up and hit GFs car about a hour ago hes angry she was there and shes angry he hit her this takes place at our home and in the driveway GFs ...   \n",
       "1                                                                                               I purchased a boat in Oregon and found out the seller lied about a handful of things Can I return the boat   \n",
       "2  I'm a manager at a restaurant Someone got shot in the parking lot at my job The police shows up and closes down the entire place I call my boss to let them know that we needed to close because of ...   \n",
       "3                                                                                                                                               Hospital I work at has no such regulations regarding COVID   \n",
       "4  I got rear ended and the damage to my car is very minimal I think It looks like the bumper just popped out a bit and there’s a few scratches My car is also an old beater a 2008 civic that is in re...   \n",
       "\n",
       "                 author  num_comments  score   timestamp  class  \n",
       "0                 TJzzz             0      1  2021-04-23      1  \n",
       "1             Vast-Lost             0      1  2021-04-23      1  \n",
       "2  PuzzleheadedTaste726             0      1  2021-04-23      1  \n",
       "3             forrborne             0      1  2021-04-23      1  \n",
       "4               pleing1             0      1  2021-04-23      1  "
      ]
     },
     "execution_count": 15,
     "metadata": {},
     "output_type": "execute_result"
    }
   ],
   "source": [
    "joint_df.head()"
   ]
  },
  {
   "cell_type": "markdown",
   "metadata": {},
   "source": [
    "#### Engineering Features"
   ]
  },
  {
   "cell_type": "markdown",
   "metadata": {},
   "source": [
    "Having done the clean up above, we can now engineer word and character count features that may prove helpful for the models to seperate the two subreddits. "
   ]
  },
  {
   "cell_type": "code",
   "execution_count": 16,
   "metadata": {},
   "outputs": [],
   "source": [
    "def add_count_col(df):\n",
    "    word_count = lambda x: len(str(x).split())\n",
    "    character_count = lambda x: len(str(x))\n",
    "    count_col = [\"title_word\",\"title_char\",\"text_word\",\"text_char\"]\n",
    "    for col in count_col:\n",
    "        if \"title\" in col:\n",
    "            if \"word\" in col:\n",
    "                df[col] = df[\"title\"].map(word_count)\n",
    "            else:\n",
    "                df[col] = df[\"title\"].map(character_count)\n",
    "        else:\n",
    "            if \"word\" in col:\n",
    "                df[col] = df[\"selftext\"].map(word_count)\n",
    "            else:\n",
    "                df[col] = df[\"selftext\"].map(character_count)\n",
    "    return df"
   ]
  },
  {
   "cell_type": "code",
   "execution_count": 17,
   "metadata": {},
   "outputs": [
    {
     "data": {
      "text/html": [
       "<div>\n",
       "<style scoped>\n",
       "    .dataframe tbody tr th:only-of-type {\n",
       "        vertical-align: middle;\n",
       "    }\n",
       "\n",
       "    .dataframe tbody tr th {\n",
       "        vertical-align: top;\n",
       "    }\n",
       "\n",
       "    .dataframe thead th {\n",
       "        text-align: right;\n",
       "    }\n",
       "</style>\n",
       "<table border=\"1\" class=\"dataframe\">\n",
       "  <thead>\n",
       "    <tr style=\"text-align: right;\">\n",
       "      <th></th>\n",
       "      <th>title</th>\n",
       "      <th>selftext</th>\n",
       "      <th>author</th>\n",
       "      <th>num_comments</th>\n",
       "      <th>score</th>\n",
       "      <th>timestamp</th>\n",
       "      <th>class</th>\n",
       "      <th>title_word</th>\n",
       "      <th>title_char</th>\n",
       "      <th>text_word</th>\n",
       "      <th>text_char</th>\n",
       "    </tr>\n",
       "  </thead>\n",
       "  <tbody>\n",
       "    <tr>\n",
       "      <th>0</th>\n",
       "      <td>Serious MA father just backed into GFs car</td>\n",
       "      <td>my father who shouldn't be driving just backed his truck up and hit GFs car about a hour ago hes angry she was there and shes angry he hit her this takes place at our home and in the driveway GFs ...</td>\n",
       "      <td>TJzzz</td>\n",
       "      <td>0</td>\n",
       "      <td>1</td>\n",
       "      <td>2021-04-23</td>\n",
       "      <td>1</td>\n",
       "      <td>8</td>\n",
       "      <td>43</td>\n",
       "      <td>83</td>\n",
       "      <td>433</td>\n",
       "    </tr>\n",
       "    <tr>\n",
       "      <th>1</th>\n",
       "      <td>Can I return a private party purchase of a boat</td>\n",
       "      <td>I purchased a boat in Oregon and found out the seller lied about a handful of things Can I return the boat</td>\n",
       "      <td>Vast-Lost</td>\n",
       "      <td>0</td>\n",
       "      <td>1</td>\n",
       "      <td>2021-04-23</td>\n",
       "      <td>1</td>\n",
       "      <td>10</td>\n",
       "      <td>47</td>\n",
       "      <td>22</td>\n",
       "      <td>106</td>\n",
       "    </tr>\n",
       "    <tr>\n",
       "      <th>2</th>\n",
       "      <td>Can the police arrest you for recording a crime scene they're working on TX</td>\n",
       "      <td>I'm a manager at a restaurant Someone got shot in the parking lot at my job The police shows up and closes down the entire place I call my boss to let them know that we needed to close because of ...</td>\n",
       "      <td>PuzzleheadedTaste726</td>\n",
       "      <td>0</td>\n",
       "      <td>1</td>\n",
       "      <td>2021-04-23</td>\n",
       "      <td>1</td>\n",
       "      <td>14</td>\n",
       "      <td>76</td>\n",
       "      <td>212</td>\n",
       "      <td>1056</td>\n",
       "    </tr>\n",
       "    <tr>\n",
       "      <th>3</th>\n",
       "      <td>Are hospitals required to health screen/temp check employees</td>\n",
       "      <td>Hospital I work at has no such regulations regarding COVID</td>\n",
       "      <td>forrborne</td>\n",
       "      <td>0</td>\n",
       "      <td>1</td>\n",
       "      <td>2021-04-23</td>\n",
       "      <td>1</td>\n",
       "      <td>8</td>\n",
       "      <td>60</td>\n",
       "      <td>10</td>\n",
       "      <td>58</td>\n",
       "    </tr>\n",
       "    <tr>\n",
       "      <th>4</th>\n",
       "      <td>Settling a minor fender bender without insurance FL</td>\n",
       "      <td>I got rear ended and the damage to my car is very minimal I think It looks like the bumper just popped out a bit and there’s a few scratches My car is also an old beater a 2008 civic that is in re...</td>\n",
       "      <td>pleing1</td>\n",
       "      <td>0</td>\n",
       "      <td>1</td>\n",
       "      <td>2021-04-23</td>\n",
       "      <td>1</td>\n",
       "      <td>8</td>\n",
       "      <td>52</td>\n",
       "      <td>289</td>\n",
       "      <td>1415</td>\n",
       "    </tr>\n",
       "  </tbody>\n",
       "</table>\n",
       "</div>"
      ],
      "text/plain": [
       "                                                                          title  \\\n",
       "0                                    Serious MA father just backed into GFs car   \n",
       "1                               Can I return a private party purchase of a boat   \n",
       "2  Can the police arrest you for recording a crime scene they're working on TX    \n",
       "3                  Are hospitals required to health screen/temp check employees   \n",
       "4                          Settling a minor fender bender without insurance FL    \n",
       "\n",
       "                                                                                                                                                                                                  selftext  \\\n",
       "0  my father who shouldn't be driving just backed his truck up and hit GFs car about a hour ago hes angry she was there and shes angry he hit her this takes place at our home and in the driveway GFs ...   \n",
       "1                                                                                               I purchased a boat in Oregon and found out the seller lied about a handful of things Can I return the boat   \n",
       "2  I'm a manager at a restaurant Someone got shot in the parking lot at my job The police shows up and closes down the entire place I call my boss to let them know that we needed to close because of ...   \n",
       "3                                                                                                                                               Hospital I work at has no such regulations regarding COVID   \n",
       "4  I got rear ended and the damage to my car is very minimal I think It looks like the bumper just popped out a bit and there’s a few scratches My car is also an old beater a 2008 civic that is in re...   \n",
       "\n",
       "                 author  num_comments  score   timestamp  class  title_word  \\\n",
       "0                 TJzzz             0      1  2021-04-23      1           8   \n",
       "1             Vast-Lost             0      1  2021-04-23      1          10   \n",
       "2  PuzzleheadedTaste726             0      1  2021-04-23      1          14   \n",
       "3             forrborne             0      1  2021-04-23      1           8   \n",
       "4               pleing1             0      1  2021-04-23      1           8   \n",
       "\n",
       "   title_char  text_word  text_char  \n",
       "0          43         83        433  \n",
       "1          47         22        106  \n",
       "2          76        212       1056  \n",
       "3          60         10         58  \n",
       "4          52        289       1415  "
      ]
     },
     "execution_count": 17,
     "metadata": {},
     "output_type": "execute_result"
    }
   ],
   "source": [
    "joint_df = add_count_col(joint_df)\n",
    "joint_df.head()"
   ]
  },
  {
   "cell_type": "markdown",
   "metadata": {},
   "source": [
    "### IV. Exploratory Data Analysis"
   ]
  },
  {
   "cell_type": "markdown",
   "metadata": {},
   "source": [
    "#### Sentiment Analysis"
   ]
  },
  {
   "cell_type": "code",
   "execution_count": 18,
   "metadata": {},
   "outputs": [],
   "source": [
    "corpus = list(joint_df[\"title\"] + \" \" + joint_df[\"selftext\"])"
   ]
  },
  {
   "cell_type": "code",
   "execution_count": 19,
   "metadata": {},
   "outputs": [],
   "source": [
    "sia = SentimentIntensityAnalyzer()"
   ]
  },
  {
   "cell_type": "code",
   "execution_count": 20,
   "metadata": {},
   "outputs": [
    {
     "data": {
      "text/html": [
       "<div>\n",
       "<style scoped>\n",
       "    .dataframe tbody tr th:only-of-type {\n",
       "        vertical-align: middle;\n",
       "    }\n",
       "\n",
       "    .dataframe tbody tr th {\n",
       "        vertical-align: top;\n",
       "    }\n",
       "\n",
       "    .dataframe thead th {\n",
       "        text-align: right;\n",
       "    }\n",
       "</style>\n",
       "<table border=\"1\" class=\"dataframe\">\n",
       "  <thead>\n",
       "    <tr style=\"text-align: right;\">\n",
       "      <th></th>\n",
       "      <th>neg</th>\n",
       "      <th>neu</th>\n",
       "      <th>pos</th>\n",
       "      <th>compound</th>\n",
       "      <th>doc</th>\n",
       "    </tr>\n",
       "  </thead>\n",
       "  <tbody>\n",
       "    <tr>\n",
       "      <th>0</th>\n",
       "      <td>0.113</td>\n",
       "      <td>0.864</td>\n",
       "      <td>0.023</td>\n",
       "      <td>-0.8689</td>\n",
       "      <td>Serious MA father just backed into GFs car my father who shouldn't be driving just backed his truck up and hit GFs car about a hour ago hes angry she was there and shes angry he hit her this take...</td>\n",
       "    </tr>\n",
       "    <tr>\n",
       "      <th>1</th>\n",
       "      <td>0.092</td>\n",
       "      <td>0.813</td>\n",
       "      <td>0.095</td>\n",
       "      <td>0.0258</td>\n",
       "      <td>Can I return a private party purchase of a boat I purchased a boat in Oregon and found out the seller lied about a handful of things Can I return the boat</td>\n",
       "    </tr>\n",
       "    <tr>\n",
       "      <th>2</th>\n",
       "      <td>0.136</td>\n",
       "      <td>0.823</td>\n",
       "      <td>0.041</td>\n",
       "      <td>-0.9672</td>\n",
       "      <td>Can the police arrest you for recording a crime scene they're working on TX  I'm a manager at a restaurant Someone got shot in the parking lot at my job The police shows up and closes down the ent...</td>\n",
       "    </tr>\n",
       "    <tr>\n",
       "      <th>3</th>\n",
       "      <td>0.121</td>\n",
       "      <td>0.879</td>\n",
       "      <td>0.000</td>\n",
       "      <td>-0.2960</td>\n",
       "      <td>Are hospitals required to health screen/temp check employees Hospital I work at has no such regulations regarding COVID</td>\n",
       "    </tr>\n",
       "    <tr>\n",
       "      <th>4</th>\n",
       "      <td>0.127</td>\n",
       "      <td>0.767</td>\n",
       "      <td>0.106</td>\n",
       "      <td>-0.8378</td>\n",
       "      <td>Settling a minor fender bender without insurance FL  I got rear ended and the damage to my car is very minimal I think It looks like the bumper just popped out a bit and there’s a few scratches My...</td>\n",
       "    </tr>\n",
       "  </tbody>\n",
       "</table>\n",
       "</div>"
      ],
      "text/plain": [
       "     neg    neu    pos  compound  \\\n",
       "0  0.113  0.864  0.023   -0.8689   \n",
       "1  0.092  0.813  0.095    0.0258   \n",
       "2  0.136  0.823  0.041   -0.9672   \n",
       "3  0.121  0.879  0.000   -0.2960   \n",
       "4  0.127  0.767  0.106   -0.8378   \n",
       "\n",
       "                                                                                                                                                                                                       doc  \n",
       "0   Serious MA father just backed into GFs car my father who shouldn't be driving just backed his truck up and hit GFs car about a hour ago hes angry she was there and shes angry he hit her this take...  \n",
       "1                                               Can I return a private party purchase of a boat I purchased a boat in Oregon and found out the seller lied about a handful of things Can I return the boat  \n",
       "2  Can the police arrest you for recording a crime scene they're working on TX  I'm a manager at a restaurant Someone got shot in the parking lot at my job The police shows up and closes down the ent...  \n",
       "3                                                                                  Are hospitals required to health screen/temp check employees Hospital I work at has no such regulations regarding COVID  \n",
       "4  Settling a minor fender bender without insurance FL  I got rear ended and the damage to my car is very minimal I think It looks like the bumper just popped out a bit and there’s a few scratches My...  "
      ]
     },
     "execution_count": 20,
     "metadata": {},
     "output_type": "execute_result"
    }
   ],
   "source": [
    "# Source: 5.06 Modeling with Sentiment\n",
    "\n",
    "sentiment = []    \n",
    "\n",
    "for post in corpus:\n",
    "    scores = sia.polarity_scores(str(post))\n",
    "    scores['doc'] = post\n",
    "    sentiment.append(scores)\n",
    "\n",
    "df_sent = pd.DataFrame(sentiment)\n",
    "df_sent.head()"
   ]
  },
  {
   "cell_type": "code",
   "execution_count": 21,
   "metadata": {},
   "outputs": [],
   "source": [
    "df_sent.rename(columns={\"compound\":\"comp_score\"},inplace=True)"
   ]
  },
  {
   "cell_type": "code",
   "execution_count": 22,
   "metadata": {},
   "outputs": [],
   "source": [
    "df_sent[\"target\"] = joint_df[\"class\"]"
   ]
  },
  {
   "cell_type": "code",
   "execution_count": 23,
   "metadata": {},
   "outputs": [
    {
     "data": {
      "image/png": "[encoded data removed]",
      "text/plain": [
       "<Figure size 432x288 with 1 Axes>"
      ]
     },
     "metadata": {
      "needs_background": "light"
     },
     "output_type": "display_data"
    }
   ],
   "source": [
    "df_sent.groupby('target').mean()[['pos', 'neg', 'comp_score']].plot(kind='barh')\n",
    "plt.title('Average Positive, Negative & Compound Scores');"
   ]
  },
  {
   "cell_type": "markdown",
   "metadata": {},
   "source": [
    "Looking at the above graph, particularly the mean compound score, we can see that on average, r/LegalAdvice posts tend to have a relatively negative sentiment, whilst r/MaliciousCompliance posts have a more positive sentiment, with average compound scores of -0.08 and +0.17, respectively. "
   ]
  },
  {
   "cell_type": "markdown",
   "metadata": {},
   "source": [
    "#### Word Count and Frequency"
   ]
  },
  {
   "cell_type": "code",
   "execution_count": 24,
   "metadata": {},
   "outputs": [
    {
     "data": {
      "image/png": "[encoded data removed]",
      "text/plain": [
       "<Figure size 1440x360 with 4 Axes>"
      ]
     },
     "metadata": {
      "needs_background": "light"
     },
     "output_type": "display_data"
    }
   ],
   "source": [
    "fig, ax = plt.subplots(nrows=1, ncols=4, figsize=(20,5))\n",
    "fig.subplots_adjust(top=0.88)\n",
    "ax = ax.ravel()\n",
    "fig.suptitle(\"Distribution of Word Count and Character Count for Legal Advice\")\n",
    "\n",
    "for i, column in enumerate([\"title_word\",\"title_char\",\"text_word\",\"text_char\"]):\n",
    "    ax[i].hist(x=joint_df[joint_df[\"class\"] == 1][column])\n",
    "    ax[i].axvline(joint_df[joint_df[\"class\"] == 1][column].mean(), color=\"red\")\n",
    "    ax[i].set_xlim(joint_df[joint_df[\"class\"] == 1][column].min(),joint_df[joint_df[\"class\"] == 1][column].max())\n",
    "    ax[i].set_xlabel(column)\n",
    "    ax[i].set_ylabel(\"Frequency\")\n",
    "    plt.tight_layout();"
   ]
  },
  {
   "cell_type": "code",
   "execution_count": 25,
   "metadata": {},
   "outputs": [
    {
     "data": {
      "image/png": "[encoded data removed]",
      "text/plain": [
       "<Figure size 1440x360 with 4 Axes>"
      ]
     },
     "metadata": {
      "needs_background": "light"
     },
     "output_type": "display_data"
    }
   ],
   "source": [
    "fig, ax = plt.subplots(nrows=1, ncols=4, figsize=(20,5))\n",
    "fig.subplots_adjust(top=0.88)\n",
    "ax = ax.ravel()\n",
    "fig.suptitle(\"Distribution of Word Count and Character Count for Malicious Compliance\")\n",
    "\n",
    "for i, column in enumerate([\"title_word\",\"title_char\",\"text_word\",\"text_char\"]):\n",
    "    ax[i].hist(x=joint_df[joint_df[\"class\"] == 0][column])\n",
    "    ax[i].axvline(joint_df[joint_df[\"class\"] == 0][column].mean(), color=\"red\")\n",
    "    ax[i].set_xlim(joint_df[joint_df[\"class\"] == 0][column].min(),joint_df[joint_df[\"class\"] == 0][column].max())\n",
    "    ax[i].set_xlabel(column)\n",
    "    ax[i].set_ylabel(\"Frequency\")\n",
    "    plt.tight_layout();"
   ]
  },
  {
   "cell_type": "markdown",
   "metadata": {},
   "source": [
    "We can observe that all word and character counts' distributions are positively skewed, which means the mean of the data is larger than both the median and mode. When comparing the word and character counts for the title and selftext we can spot an inverse relationship between title and selftext counts per subreddit. Looking at both the range and mean scores (red line on the graphs), we can see that r/LegalAdvice posts tend to have longer titles and shorter body text whilst r/MaliciousCompliance posts tend to have shorter titles but longer body text.\n",
    "\n",
    "Below are the mean scores and range (min,max values) for the word and character counts of titles and text for both subreddits: "
   ]
  },
  {
   "cell_type": "code",
   "execution_count": 26,
   "metadata": {},
   "outputs": [
    {
     "data": {
      "text/html": [
       "<div>\n",
       "<style scoped>\n",
       "    .dataframe tbody tr th:only-of-type {\n",
       "        vertical-align: middle;\n",
       "    }\n",
       "\n",
       "    .dataframe tbody tr th {\n",
       "        vertical-align: top;\n",
       "    }\n",
       "\n",
       "    .dataframe thead tr th {\n",
       "        text-align: left;\n",
       "    }\n",
       "\n",
       "    .dataframe thead tr:last-of-type th {\n",
       "        text-align: right;\n",
       "    }\n",
       "</style>\n",
       "<table border=\"1\" class=\"dataframe\">\n",
       "  <thead>\n",
       "    <tr>\n",
       "      <th></th>\n",
       "      <th colspan=\"3\" halign=\"left\">title_word</th>\n",
       "      <th colspan=\"3\" halign=\"left\">title_char</th>\n",
       "      <th colspan=\"3\" halign=\"left\">text_word</th>\n",
       "      <th colspan=\"3\" halign=\"left\">text_char</th>\n",
       "    </tr>\n",
       "    <tr>\n",
       "      <th></th>\n",
       "      <th>mean</th>\n",
       "      <th>min</th>\n",
       "      <th>max</th>\n",
       "      <th>mean</th>\n",
       "      <th>min</th>\n",
       "      <th>max</th>\n",
       "      <th>mean</th>\n",
       "      <th>min</th>\n",
       "      <th>max</th>\n",
       "      <th>mean</th>\n",
       "      <th>min</th>\n",
       "      <th>max</th>\n",
       "    </tr>\n",
       "    <tr>\n",
       "      <th>class</th>\n",
       "      <th></th>\n",
       "      <th></th>\n",
       "      <th></th>\n",
       "      <th></th>\n",
       "      <th></th>\n",
       "      <th></th>\n",
       "      <th></th>\n",
       "      <th></th>\n",
       "      <th></th>\n",
       "      <th></th>\n",
       "      <th></th>\n",
       "      <th></th>\n",
       "    </tr>\n",
       "  </thead>\n",
       "  <tbody>\n",
       "    <tr>\n",
       "      <th>0</th>\n",
       "      <td>9.1418</td>\n",
       "      <td>1</td>\n",
       "      <td>60</td>\n",
       "      <td>46.6684</td>\n",
       "      <td>1</td>\n",
       "      <td>298</td>\n",
       "      <td>441.7508</td>\n",
       "      <td>0</td>\n",
       "      <td>5269</td>\n",
       "      <td>2262.4120</td>\n",
       "      <td>0</td>\n",
       "      <td>26015</td>\n",
       "    </tr>\n",
       "    <tr>\n",
       "      <th>1</th>\n",
       "      <td>11.7010</td>\n",
       "      <td>1</td>\n",
       "      <td>62</td>\n",
       "      <td>64.7472</td>\n",
       "      <td>2</td>\n",
       "      <td>297</td>\n",
       "      <td>186.9314</td>\n",
       "      <td>0</td>\n",
       "      <td>2222</td>\n",
       "      <td>970.4102</td>\n",
       "      <td>0</td>\n",
       "      <td>11776</td>\n",
       "    </tr>\n",
       "  </tbody>\n",
       "</table>\n",
       "</div>"
      ],
      "text/plain": [
       "      title_word         title_char          text_word            text_char  \\\n",
       "            mean min max       mean min  max      mean min   max       mean   \n",
       "class                                                                         \n",
       "0         9.1418   1  60    46.6684   1  298  441.7508   0  5269  2262.4120   \n",
       "1        11.7010   1  62    64.7472   2  297  186.9314   0  2222   970.4102   \n",
       "\n",
       "                  \n",
       "      min    max  \n",
       "class             \n",
       "0       0  26015  \n",
       "1       0  11776  "
      ]
     },
     "execution_count": 26,
     "metadata": {},
     "output_type": "execute_result"
    }
   ],
   "source": [
    "joint_df.groupby('class').agg([np.mean,min,max])[[\"title_word\",\"title_char\",\"text_word\",\"text_char\"]]"
   ]
  },
  {
   "cell_type": "code",
   "execution_count": 27,
   "metadata": {},
   "outputs": [],
   "source": [
    "# Source: 5.05 NLP II\n",
    "\n",
    "cvec = CountVectorizer(stop_words=\"english\")"
   ]
  },
  {
   "cell_type": "code",
   "execution_count": 28,
   "metadata": {},
   "outputs": [],
   "source": [
    "Xcv = cvec.fit_transform(df_sent[\"doc\"])"
   ]
  },
  {
   "cell_type": "code",
   "execution_count": 29,
   "metadata": {},
   "outputs": [],
   "source": [
    "Xcv_df = pd.DataFrame(Xcv.todense(), \n",
    "                          columns=cvec.get_feature_names())"
   ]
  },
  {
   "cell_type": "code",
   "execution_count": 30,
   "metadata": {},
   "outputs": [],
   "source": [
    "Xcv_df.reset_index(drop=True, inplace=True)"
   ]
  },
  {
   "cell_type": "code",
   "execution_count": 31,
   "metadata": {},
   "outputs": [],
   "source": [
    "Xcv_df[\"target\"] = joint_df[\"class\"]"
   ]
  },
  {
   "cell_type": "code",
   "execution_count": 32,
   "metadata": {},
   "outputs": [
    {
     "data": {
      "image/png": "[encoded data removed]",
      "text/plain": [
       "<Figure size 432x288 with 1 Axes>"
      ]
     },
     "metadata": {
      "needs_background": "light"
     },
     "output_type": "display_data"
    }
   ],
   "source": [
    "Xcv_df[Xcv_df[\"target\"] == 1].sum().sort_values(ascending=False).head(10).plot(kind=\"barh\")\n",
    "plt.title('10 Most Frequent Words for Legal Advice')\n",
    "plt.xlabel('Frequency')\n",
    "plt.ylabel('Words');"
   ]
  },
  {
   "cell_type": "code",
   "execution_count": 33,
   "metadata": {},
   "outputs": [
    {
     "data": {
      "image/png": "[encoded data removed]",
      "text/plain": [
       "<Figure size 432x288 with 1 Axes>"
      ]
     },
     "metadata": {
      "needs_background": "light"
     },
     "output_type": "display_data"
    }
   ],
   "source": [
    "Xcv_df[Xcv_df[\"target\"] == 0].sum().sort_values(ascending=False).head(10).plot(kind=\"barh\")\n",
    "plt.title('10 Most Frequent Words for Malicious Compliance')\n",
    "plt.xlabel('Frequency')\n",
    "plt.ylabel('Words');"
   ]
  },
  {
   "cell_type": "markdown",
   "metadata": {},
   "source": [
    "At a glance, the most frequent words in both subreddits do not seem to have any specific significance (even after filtering out english stop_words), aside from \"target\" - the most frequent word within the r/LegalAdvice corpus. There is some overlap between the two subreddits, with common frequent words like “like”, “work\", “just”, “said”, “told”."
   ]
  },
  {
   "cell_type": "markdown",
   "metadata": {},
   "source": [
    "#### Redditors Overlap Analysis"
   ]
  },
  {
   "cell_type": "code",
   "execution_count": 34,
   "metadata": {},
   "outputs": [],
   "source": [
    "overlap = [redditor for redditor in legal[\"author\"] if redditor in mc[\"author\"]]"
   ]
  },
  {
   "cell_type": "code",
   "execution_count": 35,
   "metadata": {},
   "outputs": [
    {
     "data": {
      "text/plain": [
       "0"
      ]
     },
     "execution_count": 35,
     "metadata": {},
     "output_type": "execute_result"
    }
   ],
   "source": [
    "len(overlap)"
   ]
  },
  {
   "cell_type": "markdown",
   "metadata": {},
   "source": [
    "There are no overlaps of authors from the two subreddit posts collected."
   ]
  },
  {
   "cell_type": "markdown",
   "metadata": {},
   "source": [
    "#### Datetime Analysis"
   ]
  },
  {
   "cell_type": "markdown",
   "metadata": {},
   "source": [
    "As we can see below, r/LegalAdvice have more posts on Wednesday, Thursday and Friday (average posts of 1030 vs 477.5 on other days), whilst r/MaliciousCompliance seem to have a relatively stable daily post count (ranging around 606-830 posts per day)."
   ]
  },
  {
   "cell_type": "code",
   "execution_count": 36,
   "metadata": {},
   "outputs": [],
   "source": [
    "joint_df[\"day\"] = joint_df[\"timestamp\"].map(lambda x: datetime.datetime.strptime(x, \"%Y-%m-%d\").strftime('%a'))"
   ]
  },
  {
   "cell_type": "code",
   "execution_count": 37,
   "metadata": {},
   "outputs": [
    {
     "data": {
      "image/png": "[encoded data removed]",
      "text/plain": [
       "<Figure size 432x288 with 1 Axes>"
      ]
     },
     "metadata": {
      "needs_background": "light"
     },
     "output_type": "display_data"
    }
   ],
   "source": [
    "# source: https://matplotlib.org/stable/gallery/lines_bars_and_markers/bar_stacked.html\n",
    "\n",
    "class_1 = joint_df[joint_df[\"class\"] == 1].groupby(\"day\")[\"title\"].count()\n",
    "class_0 = joint_df[joint_df[\"class\"] == 0].groupby(\"day\")[\"title\"].count()\n",
    "\n",
    "fig, ax = plt.subplots()\n",
    "\n",
    "ax.bar(class_1.index, class_1,label='Legal Advice')\n",
    "ax.bar(class_0.index, class_0, bottom=class_1,\n",
    "       label='Malicious Compliance')\n",
    "\n",
    "ax.set_ylabel('Posts per Day of Week')\n",
    "ax.set_title('Posts per Day of Week based on Subreddit')\n",
    "ax.legend()\n",
    "\n",
    "plt.show()"
   ]
  },
  {
   "cell_type": "code",
   "execution_count": 38,
   "metadata": {},
   "outputs": [],
   "source": [
    "joint_df[\"day\"] = joint_df[\"day\"].map(lambda x: 1 if x == \"Mon\"\n",
    "                                      else 2 if x == \"Tue\"\n",
    "                                      else 3 if x == \"Wed\"\n",
    "                                      else 4 if x == \"Thu\"\n",
    "                                      else 5 if x == \"Fri\"\n",
    "                                      else 6 if x == \"Sat\"\n",
    "                                      else 7 if x == \"Sun\"\n",
    "                                      else 0)"
   ]
  },
  {
   "cell_type": "markdown",
   "metadata": {},
   "source": [
    "#### Score and Comment Distribution"
   ]
  },
  {
   "cell_type": "code",
   "execution_count": 39,
   "metadata": {},
   "outputs": [
    {
     "data": {
      "image/png": "[encoded data removed]",
      "text/plain": [
       "<Figure size 720x288 with 2 Axes>"
      ]
     },
     "metadata": {
      "needs_background": "light"
     },
     "output_type": "display_data"
    }
   ],
   "source": [
    "fig, ax = plt.subplots(nrows=1, ncols=2, figsize=(10,4))\n",
    "fig.subplots_adjust(top=0.88)\n",
    "ax = ax.ravel()\n",
    "fig.suptitle(\"Distribution of Comments and Score Count for Legal Advice\")\n",
    "\n",
    "for i, column in enumerate([\"num_comments\",\"score\"]):\n",
    "    ax[i].hist(x=joint_df[joint_df[\"class\"] == 1][column])\n",
    "    ax[i].axvline(joint_df[joint_df[\"class\"] == 1][column].mean(), color=\"red\")\n",
    "    ax[i].set_xlim(joint_df[joint_df[\"class\"] == 1][column].min(),joint_df[joint_df[\"class\"] == 1][column].max())\n",
    "    ax[i].set_xlabel(column)\n",
    "    ax[i].set_ylabel(\"Frequency\")\n",
    "    plt.tight_layout();"
   ]
  },
  {
   "cell_type": "code",
   "execution_count": 40,
   "metadata": {},
   "outputs": [
    {
     "data": {
      "image/png": "[encoded data removed]",
      "text/plain": [
       "<Figure size 720x288 with 2 Axes>"
      ]
     },
     "metadata": {
      "needs_background": "light"
     },
     "output_type": "display_data"
    }
   ],
   "source": [
    "fig, ax = plt.subplots(nrows=1, ncols=2, figsize=(10,4))\n",
    "fig.subplots_adjust(top=0.88)\n",
    "ax = ax.ravel()\n",
    "fig.suptitle(\"Distribution of Comments and Score Count for Malicious Compliance\")\n",
    "\n",
    "for i, column in enumerate([\"num_comments\",\"score\"]):\n",
    "    ax[i].hist(x=joint_df[joint_df[\"class\"] == 0][column])\n",
    "    ax[i].axvline(joint_df[joint_df[\"class\"] == 0][column].mean(), color=\"red\")\n",
    "    ax[i].set_xlim(joint_df[joint_df[\"class\"] == 0][column].min(),joint_df[joint_df[\"class\"] == 0][column].max())\n",
    "    ax[i].set_xlabel(column)\n",
    "    ax[i].set_ylabel(\"Frequency\")\n",
    "    plt.tight_layout();"
   ]
  },
  {
   "cell_type": "markdown",
   "metadata": {},
   "source": [
    "On average, r/MaliciousCompliance Posts have more comments and better scores, with a mean of 112.7 and 193.4, respectively, and a range of 0-3.2k and 0-35.3k, respectively. Whilst r/LegalAdvice have an average comment count and score of 4.9 and 1, respectively, with range of 0-178 and 0-2, respectively. "
   ]
  },
  {
   "cell_type": "markdown",
   "metadata": {},
   "source": [
    "### V. Modeling"
   ]
  },
  {
   "cell_type": "markdown",
   "metadata": {},
   "source": [
    "#### Finalized Data Frame"
   ]
  },
  {
   "cell_type": "markdown",
   "metadata": {},
   "source": [
    "Based on the EDA above, sentiment scores, word and character counts for both title and text, number of comments, score and day column are considered important. Being that we have created a table with sentiment scores and target, we added the other columns onto that table below."
   ]
  },
  {
   "cell_type": "code",
   "execution_count": 41,
   "metadata": {},
   "outputs": [],
   "source": [
    "df_sent[[\"title_word\",\"title_char\",\"text_word\",\"text_char\",\"num_comments\",\"score\",\"day\"]] = joint_df[[\"title_word\",\"title_char\",\"text_word\",\"text_char\",\"num_comments\",\"score\",\"day\"]]"
   ]
  },
  {
   "cell_type": "markdown",
   "metadata": {},
   "source": [
    "##### Determining X and Y"
   ]
  },
  {
   "cell_type": "code",
   "execution_count": 42,
   "metadata": {},
   "outputs": [],
   "source": [
    "X = df_sent.drop(columns=[\"target\"])\n",
    "y = df_sent[\"target\"]"
   ]
  },
  {
   "cell_type": "markdown",
   "metadata": {},
   "source": [
    "##### Train Test Split"
   ]
  },
  {
   "cell_type": "code",
   "execution_count": 43,
   "metadata": {},
   "outputs": [],
   "source": [
    "X_train, X_test, y_train, y_test = train_test_split(X,y,random_state=42, stratify = y)"
   ]
  },
  {
   "cell_type": "markdown",
   "metadata": {},
   "source": [
    "##### TFDF Vectorizer"
   ]
  },
  {
   "cell_type": "markdown",
   "metadata": {},
   "source": [
    "From the above EDA we also learned from the results of *CountVectorizer()* that frequency does not always equal to value. Therefore, for the model we are using TFIDF Vectorizer, which not only counts the words within the document, but penalizes it based on how often they appear in the corpus which may reduce error from bias as a result of frequent (non-valuable) words. \n",
    "\n",
    "Aside from using english stopwords, we have added the subreddit names as additional stop_words to ensure that the model is not reliant on words that we know are specific to each subreddits to perform well. "
   ]
  },
  {
   "cell_type": "code",
   "execution_count": 44,
   "metadata": {},
   "outputs": [],
   "source": [
    "# Source: 5.05 NLP II\n",
    "\n",
    "add_stop_words = [\"malicious\",\"compliance\",\"legal\",\"advice\"]"
   ]
  },
  {
   "cell_type": "code",
   "execution_count": 45,
   "metadata": {},
   "outputs": [],
   "source": [
    "stop_words = text.ENGLISH_STOP_WORDS.union(add_stop_words)"
   ]
  },
  {
   "cell_type": "code",
   "execution_count": 46,
   "metadata": {},
   "outputs": [],
   "source": [
    "tvec = TfidfVectorizer(stop_words=stop_words)"
   ]
  },
  {
   "cell_type": "code",
   "execution_count": 47,
   "metadata": {},
   "outputs": [],
   "source": [
    "X_train_tvec = tvec.fit_transform(X_train[\"doc\"])\n",
    "X_test_tvec = tvec.transform(X_test[\"doc\"])"
   ]
  },
  {
   "cell_type": "code",
   "execution_count": 48,
   "metadata": {},
   "outputs": [],
   "source": [
    "df_X_train= pd.DataFrame(X_train_tvec.todense(),columns = tvec.get_feature_names())\n",
    "df_X_test = pd.DataFrame(X_test_tvec.todense(),columns = tvec.get_feature_names())"
   ]
  },
  {
   "cell_type": "code",
   "execution_count": 49,
   "metadata": {},
   "outputs": [],
   "source": [
    "df_X_train.reset_index(drop=True, inplace=True)\n",
    "X_train.reset_index(drop=True, inplace=True)\n",
    "df_X_test.reset_index(drop=True, inplace = True)\n",
    "X_test.reset_index(drop=True, inplace=True)"
   ]
  },
  {
   "cell_type": "code",
   "execution_count": 50,
   "metadata": {
    "scrolled": true
   },
   "outputs": [
    {
     "data": {
      "text/html": [
       "<div>\n",
       "<style scoped>\n",
       "    .dataframe tbody tr th:only-of-type {\n",
       "        vertical-align: middle;\n",
       "    }\n",
       "\n",
       "    .dataframe tbody tr th {\n",
       "        vertical-align: top;\n",
       "    }\n",
       "\n",
       "    .dataframe thead th {\n",
       "        text-align: right;\n",
       "    }\n",
       "</style>\n",
       "<table border=\"1\" class=\"dataframe\">\n",
       "  <thead>\n",
       "    <tr style=\"text-align: right;\">\n",
       "      <th></th>\n",
       "      <th>00</th>\n",
       "      <th>000</th>\n",
       "      <th>0000</th>\n",
       "      <th>0002</th>\n",
       "      <th>000lbs</th>\n",
       "      <th>000plus</th>\n",
       "      <th>000rub</th>\n",
       "      <th>000th</th>\n",
       "      <th>001</th>\n",
       "      <th>002</th>\n",
       "      <th>...</th>\n",
       "      <th>pos</th>\n",
       "      <th>comp_score</th>\n",
       "      <th>doc</th>\n",
       "      <th>title_word</th>\n",
       "      <th>title_char</th>\n",
       "      <th>text_word</th>\n",
       "      <th>text_char</th>\n",
       "      <th>num_comments</th>\n",
       "      <th>score</th>\n",
       "      <th>day</th>\n",
       "    </tr>\n",
       "  </thead>\n",
       "  <tbody>\n",
       "    <tr>\n",
       "      <th>0</th>\n",
       "      <td>0.0</td>\n",
       "      <td>0.0</td>\n",
       "      <td>0.0</td>\n",
       "      <td>0.0</td>\n",
       "      <td>0.0</td>\n",
       "      <td>0.0</td>\n",
       "      <td>0.0</td>\n",
       "      <td>0.0</td>\n",
       "      <td>0.0</td>\n",
       "      <td>0.0</td>\n",
       "      <td>...</td>\n",
       "      <td>0.059</td>\n",
       "      <td>-0.9362</td>\n",
       "      <td>Friend Died and No obituary How to find out how he died if no obituary An old friend from college passed away in February I think His wife is not sharing any details only communicates with somethi...</td>\n",
       "      <td>15</td>\n",
       "      <td>70</td>\n",
       "      <td>101</td>\n",
       "      <td>568</td>\n",
       "      <td>4</td>\n",
       "      <td>1</td>\n",
       "      <td>3</td>\n",
       "    </tr>\n",
       "    <tr>\n",
       "      <th>1</th>\n",
       "      <td>0.0</td>\n",
       "      <td>0.0</td>\n",
       "      <td>0.0</td>\n",
       "      <td>0.0</td>\n",
       "      <td>0.0</td>\n",
       "      <td>0.0</td>\n",
       "      <td>0.0</td>\n",
       "      <td>0.0</td>\n",
       "      <td>0.0</td>\n",
       "      <td>0.0</td>\n",
       "      <td>...</td>\n",
       "      <td>0.061</td>\n",
       "      <td>-0.9620</td>\n",
       "      <td>USPS delivered my package that was mishandled and damaged the apartment complex's lobby Hello I'm looking for advice regarding a package incident in my apartment complex lobby which also acts as o...</td>\n",
       "      <td>13</td>\n",
       "      <td>87</td>\n",
       "      <td>245</td>\n",
       "      <td>1290</td>\n",
       "      <td>2</td>\n",
       "      <td>1</td>\n",
       "      <td>4</td>\n",
       "    </tr>\n",
       "    <tr>\n",
       "      <th>2</th>\n",
       "      <td>0.0</td>\n",
       "      <td>0.0</td>\n",
       "      <td>0.0</td>\n",
       "      <td>0.0</td>\n",
       "      <td>0.0</td>\n",
       "      <td>0.0</td>\n",
       "      <td>0.0</td>\n",
       "      <td>0.0</td>\n",
       "      <td>0.0</td>\n",
       "      <td>0.0</td>\n",
       "      <td>...</td>\n",
       "      <td>0.193</td>\n",
       "      <td>0.9888</td>\n",
       "      <td>Can I bill an estate for vet bills He didn't leave a will  I couldn't think of who to ask Any advice would be appreciated My father passed away yesterday and didn't leave a will He wasn't married ...</td>\n",
       "      <td>13</td>\n",
       "      <td>58</td>\n",
       "      <td>182</td>\n",
       "      <td>899</td>\n",
       "      <td>2</td>\n",
       "      <td>1</td>\n",
       "      <td>3</td>\n",
       "    </tr>\n",
       "  </tbody>\n",
       "</table>\n",
       "<p>3 rows × 34761 columns</p>\n",
       "</div>"
      ],
      "text/plain": [
       "    00  000  0000  0002  000lbs  000plus  000rub  000th  001  002  ...    pos  \\\n",
       "0  0.0  0.0   0.0   0.0     0.0      0.0     0.0    0.0  0.0  0.0  ...  0.059   \n",
       "1  0.0  0.0   0.0   0.0     0.0      0.0     0.0    0.0  0.0  0.0  ...  0.061   \n",
       "2  0.0  0.0   0.0   0.0     0.0      0.0     0.0    0.0  0.0  0.0  ...  0.193   \n",
       "\n",
       "   comp_score  \\\n",
       "0     -0.9362   \n",
       "1     -0.9620   \n",
       "2      0.9888   \n",
       "\n",
       "                                                                                                                                                                                                       doc  \\\n",
       "0  Friend Died and No obituary How to find out how he died if no obituary An old friend from college passed away in February I think His wife is not sharing any details only communicates with somethi...   \n",
       "1  USPS delivered my package that was mishandled and damaged the apartment complex's lobby Hello I'm looking for advice regarding a package incident in my apartment complex lobby which also acts as o...   \n",
       "2  Can I bill an estate for vet bills He didn't leave a will  I couldn't think of who to ask Any advice would be appreciated My father passed away yesterday and didn't leave a will He wasn't married ...   \n",
       "\n",
       "   title_word  title_char  text_word  text_char  num_comments  score  day  \n",
       "0          15          70        101        568             4      1    3  \n",
       "1          13          87        245       1290             2      1    4  \n",
       "2          13          58        182        899             2      1    3  \n",
       "\n",
       "[3 rows x 34761 columns]"
      ]
     },
     "execution_count": 50,
     "metadata": {},
     "output_type": "execute_result"
    }
   ],
   "source": [
    "X_train_all = pd.concat([df_X_train,X_train],axis = 1)\n",
    "X_train_all.head(3)"
   ]
  },
  {
   "cell_type": "code",
   "execution_count": 51,
   "metadata": {
    "scrolled": true
   },
   "outputs": [
    {
     "data": {
      "text/html": [
       "<div>\n",
       "<style scoped>\n",
       "    .dataframe tbody tr th:only-of-type {\n",
       "        vertical-align: middle;\n",
       "    }\n",
       "\n",
       "    .dataframe tbody tr th {\n",
       "        vertical-align: top;\n",
       "    }\n",
       "\n",
       "    .dataframe thead th {\n",
       "        text-align: right;\n",
       "    }\n",
       "</style>\n",
       "<table border=\"1\" class=\"dataframe\">\n",
       "  <thead>\n",
       "    <tr style=\"text-align: right;\">\n",
       "      <th></th>\n",
       "      <th>00</th>\n",
       "      <th>000</th>\n",
       "      <th>0000</th>\n",
       "      <th>0002</th>\n",
       "      <th>000lbs</th>\n",
       "      <th>000plus</th>\n",
       "      <th>000rub</th>\n",
       "      <th>000th</th>\n",
       "      <th>001</th>\n",
       "      <th>002</th>\n",
       "      <th>...</th>\n",
       "      <th>pos</th>\n",
       "      <th>comp_score</th>\n",
       "      <th>doc</th>\n",
       "      <th>title_word</th>\n",
       "      <th>title_char</th>\n",
       "      <th>text_word</th>\n",
       "      <th>text_char</th>\n",
       "      <th>num_comments</th>\n",
       "      <th>score</th>\n",
       "      <th>day</th>\n",
       "    </tr>\n",
       "  </thead>\n",
       "  <tbody>\n",
       "    <tr>\n",
       "      <th>0</th>\n",
       "      <td>0.0</td>\n",
       "      <td>0.0</td>\n",
       "      <td>0.0</td>\n",
       "      <td>0.0</td>\n",
       "      <td>0.0</td>\n",
       "      <td>0.0</td>\n",
       "      <td>0.0</td>\n",
       "      <td>0.0</td>\n",
       "      <td>0.0</td>\n",
       "      <td>0.0</td>\n",
       "      <td>...</td>\n",
       "      <td>0.110</td>\n",
       "      <td>0.9682</td>\n",
       "      <td>“Why is my child in the same stall as another kid  I’ve coached basketball as a volunteer for years and about 15 years ago I was coaching 8 year olds at the YMCA One of the sayings I used to say a...</td>\n",
       "      <td>11</td>\n",
       "      <td>50</td>\n",
       "      <td>242</td>\n",
       "      <td>1165</td>\n",
       "      <td>3</td>\n",
       "      <td>1</td>\n",
       "      <td>2</td>\n",
       "    </tr>\n",
       "    <tr>\n",
       "      <th>1</th>\n",
       "      <td>0.0</td>\n",
       "      <td>0.0</td>\n",
       "      <td>0.0</td>\n",
       "      <td>0.0</td>\n",
       "      <td>0.0</td>\n",
       "      <td>0.0</td>\n",
       "      <td>0.0</td>\n",
       "      <td>0.0</td>\n",
       "      <td>0.0</td>\n",
       "      <td>0.0</td>\n",
       "      <td>...</td>\n",
       "      <td>0.082</td>\n",
       "      <td>0.0484</td>\n",
       "      <td>I can't schedule time for a doctor's appointment I need to schedule a doctor's appointment but the problem is my work isn't letting me We get our schedules on Thursday the week before which is nev...</td>\n",
       "      <td>8</td>\n",
       "      <td>48</td>\n",
       "      <td>170</td>\n",
       "      <td>853</td>\n",
       "      <td>3</td>\n",
       "      <td>1</td>\n",
       "      <td>4</td>\n",
       "    </tr>\n",
       "    <tr>\n",
       "      <th>2</th>\n",
       "      <td>0.0</td>\n",
       "      <td>0.0</td>\n",
       "      <td>0.0</td>\n",
       "      <td>0.0</td>\n",
       "      <td>0.0</td>\n",
       "      <td>0.0</td>\n",
       "      <td>0.0</td>\n",
       "      <td>0.0</td>\n",
       "      <td>0.0</td>\n",
       "      <td>0.0</td>\n",
       "      <td>...</td>\n",
       "      <td>0.106</td>\n",
       "      <td>0.8658</td>\n",
       "      <td>I can live without my Clown coffee* Was at a drive-thru with a coupon that allows me to get a free item of equal or lesser value with the purchase of any item so I decided to get 2 double 0.1133 k...</td>\n",
       "      <td>7</td>\n",
       "      <td>35</td>\n",
       "      <td>109</td>\n",
       "      <td>544</td>\n",
       "      <td>30</td>\n",
       "      <td>5</td>\n",
       "      <td>2</td>\n",
       "    </tr>\n",
       "  </tbody>\n",
       "</table>\n",
       "<p>3 rows × 34761 columns</p>\n",
       "</div>"
      ],
      "text/plain": [
       "    00  000  0000  0002  000lbs  000plus  000rub  000th  001  002  ...    pos  \\\n",
       "0  0.0  0.0   0.0   0.0     0.0      0.0     0.0    0.0  0.0  0.0  ...  0.110   \n",
       "1  0.0  0.0   0.0   0.0     0.0      0.0     0.0    0.0  0.0  0.0  ...  0.082   \n",
       "2  0.0  0.0   0.0   0.0     0.0      0.0     0.0    0.0  0.0  0.0  ...  0.106   \n",
       "\n",
       "   comp_score  \\\n",
       "0      0.9682   \n",
       "1      0.0484   \n",
       "2      0.8658   \n",
       "\n",
       "                                                                                                                                                                                                       doc  \\\n",
       "0  “Why is my child in the same stall as another kid  I’ve coached basketball as a volunteer for years and about 15 years ago I was coaching 8 year olds at the YMCA One of the sayings I used to say a...   \n",
       "1  I can't schedule time for a doctor's appointment I need to schedule a doctor's appointment but the problem is my work isn't letting me We get our schedules on Thursday the week before which is nev...   \n",
       "2  I can live without my Clown coffee* Was at a drive-thru with a coupon that allows me to get a free item of equal or lesser value with the purchase of any item so I decided to get 2 double 0.1133 k...   \n",
       "\n",
       "   title_word  title_char  text_word  text_char  num_comments  score  day  \n",
       "0          11          50        242       1165             3      1    2  \n",
       "1           8          48        170        853             3      1    4  \n",
       "2           7          35        109        544            30      5    2  \n",
       "\n",
       "[3 rows x 34761 columns]"
      ]
     },
     "execution_count": 51,
     "metadata": {},
     "output_type": "execute_result"
    }
   ],
   "source": [
    "X_test_all = pd.concat([df_X_test,X_test],axis = 1)\n",
    "X_test_all.head(3)"
   ]
  },
  {
   "cell_type": "code",
   "execution_count": 52,
   "metadata": {},
   "outputs": [],
   "source": [
    "X_train_all.drop(columns=[\"doc\",\"timestamp\"],inplace=True)\n",
    "X_test_all.drop(columns=[\"doc\",\"timestamp\"],inplace=True)"
   ]
  },
  {
   "cell_type": "code",
   "execution_count": 53,
   "metadata": {},
   "outputs": [
    {
     "data": {
      "text/plain": [
       "((7500, 34758), (2500, 34758))"
      ]
     },
     "execution_count": 53,
     "metadata": {},
     "output_type": "execute_result"
    }
   ],
   "source": [
    "X_train_all.shape, X_test_all.shape"
   ]
  },
  {
   "cell_type": "markdown",
   "metadata": {},
   "source": [
    "#### 1. Baseline Model"
   ]
  },
  {
   "cell_type": "markdown",
   "metadata": {},
   "source": [
    "The baseline model is 50% - this is the accuracy score we have to beat"
   ]
  },
  {
   "cell_type": "code",
   "execution_count": 54,
   "metadata": {},
   "outputs": [
    {
     "data": {
      "text/plain": [
       "1    0.5\n",
       "0    0.5\n",
       "Name: target, dtype: float64"
      ]
     },
     "execution_count": 54,
     "metadata": {},
     "output_type": "execute_result"
    }
   ],
   "source": [
    "y.value_counts(normalize=True)"
   ]
  },
  {
   "cell_type": "markdown",
   "metadata": {},
   "source": [
    "#### 2. Logistic Regression"
   ]
  },
  {
   "cell_type": "code",
   "execution_count": 55,
   "metadata": {},
   "outputs": [],
   "source": [
    "sc = StandardScaler(with_mean = False)\n",
    "Z_train = sc.fit_transform(X_train_all)\n",
    "Z_test = sc.transform(X_test_all)"
   ]
  },
  {
   "cell_type": "code",
   "execution_count": 56,
   "metadata": {},
   "outputs": [],
   "source": [
    "logreg = LogisticRegression(penalty = \"l1\",\n",
    "                        C = 0.1,\n",
    "                        solver = \"liblinear\")"
   ]
  },
  {
   "cell_type": "code",
   "execution_count": 57,
   "metadata": {
    "scrolled": true
   },
   "outputs": [
    {
     "name": "stdout",
     "output_type": "stream",
     "text": [
      "CPU times: user 2.63 s, sys: 1.09 s, total: 3.72 s\n",
      "Wall time: 4.31 s\n"
     ]
    },
    {
     "data": {
      "text/plain": [
       "LogisticRegression(C=0.1, penalty='l1', solver='liblinear')"
      ]
     },
     "execution_count": 57,
     "metadata": {},
     "output_type": "execute_result"
    }
   ],
   "source": [
    "%%time\n",
    "logreg.fit(Z_train,y_train)"
   ]
  },
  {
   "cell_type": "code",
   "execution_count": 58,
   "metadata": {},
   "outputs": [
    {
     "data": {
      "image/png": "[encoded data removed]",
      "text/plain": [
       "<Figure size 432x288 with 2 Axes>"
      ]
     },
     "metadata": {
      "needs_background": "light"
     },
     "output_type": "display_data"
    }
   ],
   "source": [
    "# Source: 4.07 Classification Metrics II\n",
    "\n",
    "preds_logreg = logreg.predict(Z_test)\n",
    "\n",
    "tn, fp, fn, tp = confusion_matrix(y_test, preds_logreg).ravel()\n",
    "\n",
    "plot_confusion_matrix(logreg, Z_test, y_test, cmap='Blues', values_format='d');"
   ]
  },
  {
   "cell_type": "code",
   "execution_count": 59,
   "metadata": {},
   "outputs": [],
   "source": [
    "logreg_train_score = logreg.score(Z_train,y_train)\n",
    "logreg_test_score = logreg.score(Z_test,y_test)\n",
    "logreg_test_sensitivity = tp / (tp + fn)\n",
    "logreg_test_specificty = tn / (tn + fp)\n",
    "logreg_roc_auc = roc_auc_score(y_test,logreg.predict_proba(Z_test)[:,1])"
   ]
  },
  {
   "cell_type": "code",
   "execution_count": 60,
   "metadata": {
    "scrolled": true
   },
   "outputs": [
    {
     "name": "stdout",
     "output_type": "stream",
     "text": [
      "Logistic Regression Train Accuracy: 0.9994666666666666\n",
      "Logistic Regression Test Accuracy: 0.9596\n",
      "Logistic Regression Test Sensitivity: 0.9752\n",
      "Logistic Regression Test Specificity: 0.944\n",
      "Logistic Regression Test ROC-AUC Score: 0.9913676800000001\n"
     ]
    }
   ],
   "source": [
    "print(f'Logistic Regression Train Accuracy: {logreg_train_score}')\n",
    "print(f'Logistic Regression Test Accuracy: {logreg_test_score}')\n",
    "print(f'Logistic Regression Test Sensitivity: {logreg_test_sensitivity}')\n",
    "print(f'Logistic Regression Test Specificity: {logreg_test_specificty}')\n",
    "print(f'Logistic Regression Test ROC-AUC Score: {logreg_roc_auc}')"
   ]
  },
  {
   "cell_type": "markdown",
   "metadata": {},
   "source": [
    "Overall performance of the Logistic Regression Model is really good, with a slight overfit towards the training data by 4%. We can also observe that the model is more likely to predict True Positives (sensitivity of 98%) than True Negatives (specificity of 94%), with 29 False Negatives and 69 False Positives - however there is not too much of a significant difference (~4%). Looking at the ROC-AUC score we know that the model is able to distinguish between classes almost perfectly at 99%."
   ]
  },
  {
   "cell_type": "markdown",
   "metadata": {},
   "source": [
    "#### 2. Decision Tree"
   ]
  },
  {
   "cell_type": "code",
   "execution_count": 61,
   "metadata": {},
   "outputs": [],
   "source": [
    "dt = DecisionTreeClassifier(max_depth = 7,\n",
    "                            min_samples_split = 20,\n",
    "                            min_samples_leaf = 5,\n",
    "                            ccp_alpha = 0.001,\n",
    "                            random_state = 42)"
   ]
  },
  {
   "cell_type": "code",
   "execution_count": 62,
   "metadata": {},
   "outputs": [
    {
     "name": "stdout",
     "output_type": "stream",
     "text": [
      "CPU times: user 5.17 s, sys: 1.41 s, total: 6.59 s\n",
      "Wall time: 6.11 s\n"
     ]
    },
    {
     "data": {
      "text/plain": [
       "DecisionTreeClassifier(ccp_alpha=0.001, max_depth=7, min_samples_leaf=5,\n",
       "                       min_samples_split=20, random_state=42)"
      ]
     },
     "execution_count": 62,
     "metadata": {},
     "output_type": "execute_result"
    }
   ],
   "source": [
    "%%time\n",
    "dt.fit(X_train_all,y_train)"
   ]
  },
  {
   "cell_type": "code",
   "execution_count": 63,
   "metadata": {},
   "outputs": [
    {
     "data": {
      "image/png": "[encoded data removed]",
      "text/plain": [
       "<Figure size 432x288 with 2 Axes>"
      ]
     },
     "metadata": {
      "needs_background": "light"
     },
     "output_type": "display_data"
    }
   ],
   "source": [
    "# Source: 4.07 Classification Metrics II\n",
    "\n",
    "preds_dt = dt.predict(X_test_all)\n",
    "\n",
    "tn, fp, fn, tp = confusion_matrix(y_test, preds_dt).ravel()\n",
    "\n",
    "plot_confusion_matrix(dt, X_test_all, y_test, cmap='Blues', values_format='d');"
   ]
  },
  {
   "cell_type": "code",
   "execution_count": 64,
   "metadata": {},
   "outputs": [],
   "source": [
    "dt_train_score = dt.score(X_train_all,y_train)\n",
    "dt_test_score = dt.score(X_test_all,y_test)\n",
    "dt_test_sensitivity = tp / (tp + fn)\n",
    "dt_test_specificty = tn / (tn + fp)\n",
    "dt_roc_auc = roc_auc_score(y_test,dt.predict_proba(X_test_all)[:,1])"
   ]
  },
  {
   "cell_type": "code",
   "execution_count": 65,
   "metadata": {},
   "outputs": [
    {
     "name": "stdout",
     "output_type": "stream",
     "text": [
      "Decision Tree Train Accuracy: 0.9112\n",
      "Decision Tree Test Accuracy: 0.8972\n",
      "Decision Tree Test Sensitivity: 0.9248\n",
      "Decision Tree Test Specificity: 0.8696\n",
      "Decision Tree Test ROC-AUC Score: 0.93049888\n"
     ]
    }
   ],
   "source": [
    "print(f'Decision Tree Train Accuracy: {dt_train_score}')\n",
    "print(f'Decision Tree Test Accuracy: {dt_test_score}')\n",
    "print(f'Decision Tree Test Sensitivity: {dt_test_sensitivity}')\n",
    "print(f'Decision Tree Test Specificity: {dt_test_specificty}')\n",
    "print(f'Decision Tree Test ROC-AUC Score: {dt_roc_auc}')"
   ]
  },
  {
   "cell_type": "markdown",
   "metadata": {},
   "source": [
    "Overall performance of the Decision Tree Model is good, with a very slight overfit towards the training data by ~1%. We can also observe that the model is more likely to predict True Positives (sensitivity of 92%) than True Negatives (specificity of 87%), with 94 False Negatives and 163 False Positives. Looking at the ROC-AUC score we know that the model is able to distinguish between classes by 93%."
   ]
  },
  {
   "cell_type": "code",
   "execution_count": 66,
   "metadata": {
    "scrolled": true
   },
   "outputs": [
    {
     "data": {
      "text/html": [
       "<div>\n",
       "<style scoped>\n",
       "    .dataframe tbody tr th:only-of-type {\n",
       "        vertical-align: middle;\n",
       "    }\n",
       "\n",
       "    .dataframe tbody tr th {\n",
       "        vertical-align: top;\n",
       "    }\n",
       "\n",
       "    .dataframe thead th {\n",
       "        text-align: right;\n",
       "    }\n",
       "</style>\n",
       "<table border=\"1\" class=\"dataframe\">\n",
       "  <thead>\n",
       "    <tr style=\"text-align: right;\">\n",
       "      <th></th>\n",
       "      <th>Column Name</th>\n",
       "      <th>Feature Importance</th>\n",
       "    </tr>\n",
       "  </thead>\n",
       "  <tbody>\n",
       "    <tr>\n",
       "      <th>34755</th>\n",
       "      <td>num_comments</td>\n",
       "      <td>0.781778</td>\n",
       "    </tr>\n",
       "    <tr>\n",
       "      <th>34753</th>\n",
       "      <td>text_word</td>\n",
       "      <td>0.084223</td>\n",
       "    </tr>\n",
       "    <tr>\n",
       "      <th>30677</th>\n",
       "      <td>teacher</td>\n",
       "      <td>0.020103</td>\n",
       "    </tr>\n",
       "    <tr>\n",
       "      <th>34752</th>\n",
       "      <td>title_char</td>\n",
       "      <td>0.019040</td>\n",
       "    </tr>\n",
       "    <tr>\n",
       "      <th>29602</th>\n",
       "      <td>story</td>\n",
       "      <td>0.011264</td>\n",
       "    </tr>\n",
       "    <tr>\n",
       "      <th>19276</th>\n",
       "      <td>mc</td>\n",
       "      <td>0.009929</td>\n",
       "    </tr>\n",
       "    <tr>\n",
       "      <th>13287</th>\n",
       "      <td>funny</td>\n",
       "      <td>0.009466</td>\n",
       "    </tr>\n",
       "    <tr>\n",
       "      <th>34756</th>\n",
       "      <td>score</td>\n",
       "      <td>0.009406</td>\n",
       "    </tr>\n",
       "    <tr>\n",
       "      <th>28059</th>\n",
       "      <td>situation</td>\n",
       "      <td>0.006716</td>\n",
       "    </tr>\n",
       "    <tr>\n",
       "      <th>6476</th>\n",
       "      <td>claims</td>\n",
       "      <td>0.005946</td>\n",
       "    </tr>\n",
       "  </tbody>\n",
       "</table>\n",
       "</div>"
      ],
      "text/plain": [
       "        Column Name  Feature Importance\n",
       "34755  num_comments            0.781778\n",
       "34753     text_word            0.084223\n",
       "30677       teacher            0.020103\n",
       "34752    title_char            0.019040\n",
       "29602         story            0.011264\n",
       "19276            mc            0.009929\n",
       "13287         funny            0.009466\n",
       "34756         score            0.009406\n",
       "28059     situation            0.006716\n",
       "6476         claims            0.005946"
      ]
     },
     "execution_count": 66,
     "metadata": {},
     "output_type": "execute_result"
    }
   ],
   "source": [
    "d_dt = {'Column Name':X_train_all.columns,'Feature Importance':dt.feature_importances_}\n",
    "fi_dt = pd.DataFrame(d_dt)\n",
    "fi_dt.sort_values(by=['Feature Importance'], ascending = False).head(10)"
   ]
  },
  {
   "cell_type": "markdown",
   "metadata": {},
   "source": [
    "Above are the top 10 most important features in the Decision Tree Model. Note that columns from the original dataframe (num_comments and score) and engineered features (text_word and title_char) are part of this."
   ]
  },
  {
   "cell_type": "markdown",
   "metadata": {},
   "source": [
    "#### 3. Random Forest"
   ]
  },
  {
   "cell_type": "code",
   "execution_count": 67,
   "metadata": {},
   "outputs": [],
   "source": [
    "rfc = RandomForestClassifier(max_depth = 20,\n",
    "                             max_features = \"auto\",\n",
    "                             min_samples_leaf = 2,\n",
    "                             min_samples_split = 3,\n",
    "                             n_estimators = 703,\n",
    "                             random_state = 42)"
   ]
  },
  {
   "cell_type": "code",
   "execution_count": 68,
   "metadata": {
    "scrolled": true
   },
   "outputs": [
    {
     "name": "stdout",
     "output_type": "stream",
     "text": [
      "CPU times: user 56.6 s, sys: 1.44 s, total: 58.1 s\n",
      "Wall time: 58.6 s\n"
     ]
    },
    {
     "data": {
      "text/plain": [
       "RandomForestClassifier(max_depth=20, min_samples_leaf=2, min_samples_split=3,\n",
       "                       n_estimators=703, random_state=42)"
      ]
     },
     "execution_count": 68,
     "metadata": {},
     "output_type": "execute_result"
    }
   ],
   "source": [
    "%%time\n",
    "rfc.fit(X_train_all,y_train)"
   ]
  },
  {
   "cell_type": "code",
   "execution_count": 69,
   "metadata": {},
   "outputs": [
    {
     "data": {
      "image/png": "[encoded data removed]",
      "text/plain": [
       "<Figure size 432x288 with 2 Axes>"
      ]
     },
     "metadata": {
      "needs_background": "light"
     },
     "output_type": "display_data"
    }
   ],
   "source": [
    "# Source: 4.07 Classification Metrics II\n",
    "\n",
    "preds_rfc = rfc.predict(X_test_all)\n",
    "\n",
    "tn, fp, fn, tp = confusion_matrix(y_test, preds_rfc).ravel()\n",
    "\n",
    "plot_confusion_matrix(rfc, X_test_all, y_test, cmap='Blues', values_format='d');"
   ]
  },
  {
   "cell_type": "code",
   "execution_count": 70,
   "metadata": {},
   "outputs": [],
   "source": [
    "rfc_train_score = rfc.score(X_train_all,y_train)\n",
    "rfc_test_score = rfc.score(X_test_all,y_test)\n",
    "rfc_test_sensitivity = tp / (tp + fn)\n",
    "rfc_test_specificty = tn / (tn + fp)\n",
    "rfc_roc_auc = roc_auc_score(y_test,rfc.predict_proba(X_test_all)[:,1])"
   ]
  },
  {
   "cell_type": "code",
   "execution_count": 71,
   "metadata": {},
   "outputs": [
    {
     "name": "stdout",
     "output_type": "stream",
     "text": [
      "Random Forest Train Accuracy: 0.9401333333333334\n",
      "Random Forest Test Accuracy: 0.898\n",
      "Random Forest Test Sensitivity: 0.9416\n",
      "Random Forest Test Specificity: 0.8544\n",
      "Random Forest Test ROC-AUC Score: 0.96381248\n"
     ]
    }
   ],
   "source": [
    "print(f'Random Forest Train Accuracy: {rfc_train_score}')\n",
    "print(f'Random Forest Test Accuracy: {rfc_test_score}')\n",
    "print(f'Random Forest Test Sensitivity: {rfc_test_sensitivity}')\n",
    "print(f'Random Forest Test Specificity: {rfc_test_specificty}')\n",
    "print(f'Random Forest Test ROC-AUC Score: {rfc_roc_auc}')"
   ]
  },
  {
   "cell_type": "markdown",
   "metadata": {},
   "source": [
    "Overall performance of the Random Forest Model is good, with a slight overfit towards the training data by 4%. We can also observe that the model is more likely to predict True Positives (sensitivity of 94%) than True Negatives (specificity of 85%), with 73 False Negatives and 182 False Positives. Looking at the ROC-AUC score we know that the model is able to distinguish between classes by 96%."
   ]
  },
  {
   "cell_type": "code",
   "execution_count": 72,
   "metadata": {},
   "outputs": [
    {
     "data": {
      "text/html": [
       "<div>\n",
       "<style scoped>\n",
       "    .dataframe tbody tr th:only-of-type {\n",
       "        vertical-align: middle;\n",
       "    }\n",
       "\n",
       "    .dataframe tbody tr th {\n",
       "        vertical-align: top;\n",
       "    }\n",
       "\n",
       "    .dataframe thead th {\n",
       "        text-align: right;\n",
       "    }\n",
       "</style>\n",
       "<table border=\"1\" class=\"dataframe\">\n",
       "  <thead>\n",
       "    <tr style=\"text-align: right;\">\n",
       "      <th></th>\n",
       "      <th>Column Name</th>\n",
       "      <th>Feature Importance</th>\n",
       "    </tr>\n",
       "  </thead>\n",
       "  <tbody>\n",
       "    <tr>\n",
       "      <th>34755</th>\n",
       "      <td>num_comments</td>\n",
       "      <td>0.048796</td>\n",
       "    </tr>\n",
       "    <tr>\n",
       "      <th>34753</th>\n",
       "      <td>text_word</td>\n",
       "      <td>0.021576</td>\n",
       "    </tr>\n",
       "    <tr>\n",
       "      <th>34754</th>\n",
       "      <td>text_char</td>\n",
       "      <td>0.018450</td>\n",
       "    </tr>\n",
       "    <tr>\n",
       "      <th>8614</th>\n",
       "      <td>day</td>\n",
       "      <td>0.014527</td>\n",
       "    </tr>\n",
       "    <tr>\n",
       "      <th>31255</th>\n",
       "      <td>time</td>\n",
       "      <td>0.012536</td>\n",
       "    </tr>\n",
       "    <tr>\n",
       "      <th>29602</th>\n",
       "      <td>story</td>\n",
       "      <td>0.009158</td>\n",
       "    </tr>\n",
       "    <tr>\n",
       "      <th>34756</th>\n",
       "      <td>score</td>\n",
       "      <td>0.009119</td>\n",
       "    </tr>\n",
       "    <tr>\n",
       "      <th>33903</th>\n",
       "      <td>went</td>\n",
       "      <td>0.008380</td>\n",
       "    </tr>\n",
       "    <tr>\n",
       "      <th>13915</th>\n",
       "      <td>got</td>\n",
       "      <td>0.008348</td>\n",
       "    </tr>\n",
       "    <tr>\n",
       "      <th>9403</th>\n",
       "      <td>didn</td>\n",
       "      <td>0.008226</td>\n",
       "    </tr>\n",
       "  </tbody>\n",
       "</table>\n",
       "</div>"
      ],
      "text/plain": [
       "        Column Name  Feature Importance\n",
       "34755  num_comments            0.048796\n",
       "34753     text_word            0.021576\n",
       "34754     text_char            0.018450\n",
       "8614            day            0.014527\n",
       "31255          time            0.012536\n",
       "29602         story            0.009158\n",
       "34756         score            0.009119\n",
       "33903          went            0.008380\n",
       "13915           got            0.008348\n",
       "9403           didn            0.008226"
      ]
     },
     "execution_count": 72,
     "metadata": {},
     "output_type": "execute_result"
    }
   ],
   "source": [
    "d_rfc = {'Column Name':X_train_all.columns,'Feature Importance':rfc.feature_importances_}\n",
    "fi_rfc = pd.DataFrame(d_rfc)\n",
    "fi_rfc.sort_values(by=['Feature Importance'], ascending = False).head(10)"
   ]
  },
  {
   "cell_type": "markdown",
   "metadata": {},
   "source": [
    "Above are the top 10 most important features in the Random Forest Model. Note that columns from the original dataframe (num_comments and score) and engineered features (text_word and text_char) are part of this."
   ]
  },
  {
   "cell_type": "markdown",
   "metadata": {},
   "source": [
    "#### 4. Extra Trees"
   ]
  },
  {
   "cell_type": "code",
   "execution_count": 73,
   "metadata": {},
   "outputs": [],
   "source": [
    "et = ExtraTreesClassifier(bootstrap = False,\n",
    "                          class_weight = \"balanced\",\n",
    "                          max_depth = 19,\n",
    "                          max_features = \"auto\",\n",
    "                          min_samples_leaf = 2,\n",
    "                          min_samples_split = 4,\n",
    "                          n_estimators = 192,\n",
    "                          random_state = 42\n",
    "                         )"
   ]
  },
  {
   "cell_type": "code",
   "execution_count": 74,
   "metadata": {
    "scrolled": true
   },
   "outputs": [
    {
     "name": "stdout",
     "output_type": "stream",
     "text": [
      "CPU times: user 13.4 s, sys: 1.01 s, total: 14.4 s\n",
      "Wall time: 14.5 s\n"
     ]
    },
    {
     "data": {
      "text/plain": [
       "ExtraTreesClassifier(class_weight='balanced', max_depth=19, min_samples_leaf=2,\n",
       "                     min_samples_split=4, n_estimators=192, random_state=42)"
      ]
     },
     "execution_count": 74,
     "metadata": {},
     "output_type": "execute_result"
    }
   ],
   "source": [
    "%%time\n",
    "et.fit(X_train_all,y_train)"
   ]
  },
  {
   "cell_type": "code",
   "execution_count": 75,
   "metadata": {},
   "outputs": [
    {
     "data": {
      "image/png": "[encoded data removed]",
      "text/plain": [
       "<Figure size 432x288 with 2 Axes>"
      ]
     },
     "metadata": {
      "needs_background": "light"
     },
     "output_type": "display_data"
    }
   ],
   "source": [
    "# Source: 4.07 Classification Metrics II\n",
    "\n",
    "preds_et = et.predict(X_test_all)\n",
    "\n",
    "tn, fp, fn, tp = confusion_matrix(y_test, preds_et).ravel()\n",
    "\n",
    "plot_confusion_matrix(et, X_test_all, y_test, cmap='Blues', values_format='d');"
   ]
  },
  {
   "cell_type": "code",
   "execution_count": 76,
   "metadata": {},
   "outputs": [],
   "source": [
    "et_train_score = et.score(X_train_all,y_train)\n",
    "et_test_score = et.score(X_test_all,y_test)\n",
    "et_test_sensitivity = tp / (tp + fn)\n",
    "et_test_specificty = tn / (tn + fp)\n",
    "et_roc_auc = roc_auc_score(y_test,et.predict_proba(X_test_all)[:,1])"
   ]
  },
  {
   "cell_type": "code",
   "execution_count": 77,
   "metadata": {},
   "outputs": [
    {
     "name": "stdout",
     "output_type": "stream",
     "text": [
      "Extra Trees Train Accuracy: 0.9257333333333333\n",
      "Extra Trees Test Accuracy: 0.9\n",
      "Extra Trees Test Sensitivity: 0.96\n",
      "Extra Trees Test Specificity: 0.84\n",
      "Extra Trees Test ROC-AUC Score: 0.96499392\n"
     ]
    }
   ],
   "source": [
    "print(f'Extra Trees Train Accuracy: {et_train_score}')\n",
    "print(f'Extra Trees Test Accuracy: {et_test_score}')\n",
    "print(f'Extra Trees Test Sensitivity: {et_test_sensitivity}')\n",
    "print(f'Extra Trees Test Specificity: {et_test_specificty}')\n",
    "print(f'Extra Trees Test ROC-AUC Score: {et_roc_auc}')"
   ]
  },
  {
   "cell_type": "markdown",
   "metadata": {},
   "source": [
    "Overall performance of the Extra Trees Model is pretty good, with a slight overfit towards the training data by ~3%. We can also observe that the model is more likely to predict True Positives (sensitivity of 96%) than True Negatives (specificity of 84%), with 50 False Negatives and 200 False Positives. Looking at the ROC-AUC score we know that the model is able to distinguish between classes by 96%."
   ]
  },
  {
   "cell_type": "code",
   "execution_count": 78,
   "metadata": {},
   "outputs": [
    {
     "data": {
      "text/html": [
       "<div>\n",
       "<style scoped>\n",
       "    .dataframe tbody tr th:only-of-type {\n",
       "        vertical-align: middle;\n",
       "    }\n",
       "\n",
       "    .dataframe tbody tr th {\n",
       "        vertical-align: top;\n",
       "    }\n",
       "\n",
       "    .dataframe thead th {\n",
       "        text-align: right;\n",
       "    }\n",
       "</style>\n",
       "<table border=\"1\" class=\"dataframe\">\n",
       "  <thead>\n",
       "    <tr style=\"text-align: right;\">\n",
       "      <th></th>\n",
       "      <th>Column Name</th>\n",
       "      <th>Feature Importance</th>\n",
       "    </tr>\n",
       "  </thead>\n",
       "  <tbody>\n",
       "    <tr>\n",
       "      <th>34753</th>\n",
       "      <td>text_word</td>\n",
       "      <td>0.013017</td>\n",
       "    </tr>\n",
       "    <tr>\n",
       "      <th>34750</th>\n",
       "      <td>comp_score</td>\n",
       "      <td>0.012367</td>\n",
       "    </tr>\n",
       "    <tr>\n",
       "      <th>34754</th>\n",
       "      <td>text_char</td>\n",
       "      <td>0.011058</td>\n",
       "    </tr>\n",
       "    <tr>\n",
       "      <th>17565</th>\n",
       "      <td>knew</td>\n",
       "      <td>0.008690</td>\n",
       "    </tr>\n",
       "    <tr>\n",
       "      <th>2827</th>\n",
       "      <td>appreciated</td>\n",
       "      <td>0.007942</td>\n",
       "    </tr>\n",
       "    <tr>\n",
       "      <th>31413</th>\n",
       "      <td>told</td>\n",
       "      <td>0.006626</td>\n",
       "    </tr>\n",
       "    <tr>\n",
       "      <th>34755</th>\n",
       "      <td>num_comments</td>\n",
       "      <td>0.006314</td>\n",
       "    </tr>\n",
       "    <tr>\n",
       "      <th>4754</th>\n",
       "      <td>boss</td>\n",
       "      <td>0.005826</td>\n",
       "    </tr>\n",
       "    <tr>\n",
       "      <th>17948</th>\n",
       "      <td>lease</td>\n",
       "      <td>0.005811</td>\n",
       "    </tr>\n",
       "    <tr>\n",
       "      <th>25527</th>\n",
       "      <td>reminded</td>\n",
       "      <td>0.005720</td>\n",
       "    </tr>\n",
       "  </tbody>\n",
       "</table>\n",
       "</div>"
      ],
      "text/plain": [
       "        Column Name  Feature Importance\n",
       "34753     text_word            0.013017\n",
       "34750    comp_score            0.012367\n",
       "34754     text_char            0.011058\n",
       "17565          knew            0.008690\n",
       "2827    appreciated            0.007942\n",
       "31413          told            0.006626\n",
       "34755  num_comments            0.006314\n",
       "4754           boss            0.005826\n",
       "17948         lease            0.005811\n",
       "25527      reminded            0.005720"
      ]
     },
     "execution_count": 78,
     "metadata": {},
     "output_type": "execute_result"
    }
   ],
   "source": [
    "d_et = {'Column Name':X_train_all.columns,'Feature Importance':et.feature_importances_}\n",
    "fi_et = pd.DataFrame(d_et)\n",
    "fi_et.sort_values(by=['Feature Importance'], ascending = False).head(10)"
   ]
  },
  {
   "cell_type": "markdown",
   "metadata": {},
   "source": [
    "Above are the top 10 most important features in the Extra Trees Model. Note that columns from the original dataframe (num_comments) and engineered features (text_word, text_char, comp_score) are part of this."
   ]
  },
  {
   "cell_type": "markdown",
   "metadata": {},
   "source": [
    "#### 5. Support Vector Machines"
   ]
  },
  {
   "cell_type": "code",
   "execution_count": 79,
   "metadata": {},
   "outputs": [],
   "source": [
    "svc = SVC(gamma=\"scale\",\n",
    "          C=10000,\n",
    "          degree = 2,\n",
    "          kernel=\"poly\"\n",
    "         )"
   ]
  },
  {
   "cell_type": "code",
   "execution_count": 80,
   "metadata": {},
   "outputs": [
    {
     "name": "stdout",
     "output_type": "stream",
     "text": [
      "CPU times: user 14min 34s, sys: 4.75 s, total: 14min 38s\n",
      "Wall time: 14min 40s\n"
     ]
    },
    {
     "data": {
      "text/plain": [
       "SVC(C=10000, degree=2, kernel='poly')"
      ]
     },
     "execution_count": 80,
     "metadata": {},
     "output_type": "execute_result"
    }
   ],
   "source": [
    "%%time\n",
    "svc.fit(X_train_all,y_train)"
   ]
  },
  {
   "cell_type": "code",
   "execution_count": 81,
   "metadata": {},
   "outputs": [
    {
     "data": {
      "image/png": "[encoded data removed]",
      "text/plain": [
       "<Figure size 432x288 with 2 Axes>"
      ]
     },
     "metadata": {
      "needs_background": "light"
     },
     "output_type": "display_data"
    }
   ],
   "source": [
    "# Source: 4.07 Classification Metrics II\n",
    "\n",
    "preds_svc = svc.predict(X_test_all)\n",
    "\n",
    "tn, fp, fn, tp = confusion_matrix(y_test, preds_svc).ravel()\n",
    "\n",
    "plot_confusion_matrix(svc, X_test_all, y_test, cmap='Blues', values_format='d');"
   ]
  },
  {
   "cell_type": "code",
   "execution_count": 82,
   "metadata": {},
   "outputs": [],
   "source": [
    "svc_train_score = svc.score(X_train_all,y_train)\n",
    "svc_test_score = svc.score(X_test_all,y_test)\n",
    "svc_test_sensitivity = tp / (tp + fn)\n",
    "svc_test_specificty = tn / (tn + fp)\n",
    "svc_roc_auc = roc_auc_score(y_test,et.predict_proba(X_test_all)[:,1])"
   ]
  },
  {
   "cell_type": "code",
   "execution_count": 83,
   "metadata": {},
   "outputs": [
    {
     "name": "stdout",
     "output_type": "stream",
     "text": [
      "Support Vector Machine Train Accuracy: 0.8514666666666667\n",
      "Support Vector Machine Test Accuracy: 0.856\n",
      "Support Vector Machine Test Sensitivity: 0.9688\n",
      "Support Vector Machine Test Specificity: 0.7432\n",
      "Support Vector Machine Test ROC-AUC Score: 0.96499392\n"
     ]
    }
   ],
   "source": [
    "print(f'Support Vector Machine Train Accuracy: {svc_train_score}')\n",
    "print(f'Support Vector Machine Test Accuracy: {svc_test_score}')\n",
    "print(f'Support Vector Machine Test Sensitivity: {svc_test_sensitivity}')\n",
    "print(f'Support Vector Machine Test Specificity: {svc_test_specificty}')\n",
    "print(f'Support Vector Machine Test ROC-AUC Score: {svc_roc_auc}')"
   ]
  },
  {
   "cell_type": "markdown",
   "metadata": {},
   "source": [
    "Overall performance of the SVM model is good, but not as good when compared to the other models above, with accuracy of 87% for testing data. This is the only model that does not overfit towards the Training data. We can also observe that the model is more likely to predict True Positives (sensitivity of 97%) than True Negatives (specificity of 74%), with 39 False Negatives and 321 False Positives. Looking at the ROC-AUC score we know that the model is able to distinguish between classes by 97%."
   ]
  },
  {
   "cell_type": "markdown",
   "metadata": {},
   "source": [
    "#### 6. Naive Bayes"
   ]
  },
  {
   "cell_type": "code",
   "execution_count": 84,
   "metadata": {},
   "outputs": [],
   "source": [
    "mnb = MultinomialNB()"
   ]
  },
  {
   "cell_type": "code",
   "execution_count": 85,
   "metadata": {},
   "outputs": [],
   "source": [
    "X_train_mnb = X_train_all.drop(columns = [\"comp_score\"])\n",
    "X_test_mnb = X_test_all.drop(columns = [\"comp_score\"])"
   ]
  },
  {
   "cell_type": "code",
   "execution_count": 86,
   "metadata": {},
   "outputs": [
    {
     "name": "stdout",
     "output_type": "stream",
     "text": [
      "CPU times: user 706 ms, sys: 1.11 s, total: 1.81 s\n",
      "Wall time: 2.56 s\n"
     ]
    },
    {
     "data": {
      "text/plain": [
       "MultinomialNB()"
      ]
     },
     "execution_count": 86,
     "metadata": {},
     "output_type": "execute_result"
    }
   ],
   "source": [
    "%%time\n",
    "mnb.fit(X_train_mnb,y_train)"
   ]
  },
  {
   "cell_type": "code",
   "execution_count": 87,
   "metadata": {},
   "outputs": [
    {
     "data": {
      "image/png": "[encoded data removed]",
      "text/plain": [
       "<Figure size 432x288 with 2 Axes>"
      ]
     },
     "metadata": {
      "needs_background": "light"
     },
     "output_type": "display_data"
    }
   ],
   "source": [
    "preds_mnb = mnb.predict(X_test_mnb)\n",
    "\n",
    "tn, fp, fn, tp = confusion_matrix(y_test, preds_mnb).ravel()\n",
    "\n",
    "plot_confusion_matrix(mnb, X_test_mnb, y_test, cmap='Blues', values_format='d');"
   ]
  },
  {
   "cell_type": "code",
   "execution_count": 88,
   "metadata": {},
   "outputs": [],
   "source": [
    "mnb_train_score = mnb.score(X_train_mnb,y_train)\n",
    "mnb_test_score = mnb.score(X_test_mnb,y_test)\n",
    "mnb_test_sensitivity = tp / (tp + fn)\n",
    "mnb_test_specificty = tn / (tn + fp)\n",
    "mnb_roc_auc = roc_auc_score(y_test,mnb.predict_proba(X_test_mnb)[:,1])"
   ]
  },
  {
   "cell_type": "code",
   "execution_count": 89,
   "metadata": {},
   "outputs": [
    {
     "name": "stdout",
     "output_type": "stream",
     "text": [
      "Naive Bayes Train Accuracy: 0.6822666666666667\n",
      "Naive Bayes Test Accuracy: 0.6744\n",
      "Naive Bayes Test Sensitivity: 0.996\n",
      "Naive Bayes Test Specificity: 0.3528\n",
      "Naive Bayes Test ROC-AUC Score: 0.7003961599999999\n"
     ]
    }
   ],
   "source": [
    "print(f'Naive Bayes Train Accuracy: {mnb_train_score}')\n",
    "print(f'Naive Bayes Test Accuracy: {mnb_test_score}')\n",
    "print(f'Naive Bayes Test Sensitivity: {mnb_test_sensitivity}')\n",
    "print(f'Naive Bayes Test Specificity: {mnb_test_specificty}')\n",
    "print(f'Naive Bayes Test ROC-AUC Score: {mnb_roc_auc}')"
   ]
  },
  {
   "cell_type": "markdown",
   "metadata": {},
   "source": [
    "The Naive Bayes model was the worst performing model with a test accuracy score of 67%. It is also slightly overfit towards the training by 1%. We can also observe that the model is significantly more likely to predict True Positives (sensitivity of 99%) than True Negatives (specificity of 35%), with 5 False Negatives and 809 False Positives. Looking at the ROC-AUC score we know that the model is able to distinguish between classes by 70%. The low performance may be attributed towards having to drop the sentiment compound score column because Naive Bayes Model cannot take in negative values - this shows the importance of the compound score in determining the target class."
   ]
  },
  {
   "cell_type": "markdown",
   "metadata": {},
   "source": [
    "###### Note: \n",
    "*RandomizedSearchCV and BayesSearchCV was used to determine the best hyperparameters for each model used above, but for the sake of processing speed the step is removed from within the code itself*"
   ]
  },
  {
   "cell_type": "markdown",
   "metadata": {},
   "source": [
    "### VI. Evaluation"
   ]
  },
  {
   "cell_type": "code",
   "execution_count": 90,
   "metadata": {},
   "outputs": [],
   "source": [
    "metrics_summary_dic = {\n",
    "    \"Metrics\":[\"Train Accuracy\",\"Test Accuracy\",\"Test Sensitivity\",\"Test Specificity\",\"Test ROC-AUC Score\"],\n",
    "    \"Logistic Regression\":[logreg_train_score,logreg_test_score,logreg_test_sensitivity,logreg_test_specificty,logreg_roc_auc],\n",
    "    \"Decision Tree Classifier\":[dt_train_score,dt_test_score,dt_test_sensitivity,dt_test_specificty,dt_roc_auc],\n",
    "    \"Random Forest Classifier\":[rfc_train_score,rfc_test_score,rfc_test_sensitivity,rfc_test_specificty,rfc_roc_auc],\n",
    "    \"Extra Trees Classifier\":[et_train_score,et_test_score,et_test_sensitivity,et_test_specificty,et_roc_auc],\n",
    "    \"Support Vector Machines\":[svc_train_score,svc_test_score,svc_test_sensitivity,svc_test_specificty,svc_roc_auc],\n",
    "    \"Naive Bayes\":[mnb_train_score,mnb_test_score,mnb_test_sensitivity,mnb_test_specificty,mnb_roc_auc]\n",
    "}"
   ]
  },
  {
   "cell_type": "code",
   "execution_count": 91,
   "metadata": {},
   "outputs": [],
   "source": [
    "metrics_summary = pd.DataFrame(metrics_summary_dic)\n",
    "metrics_summary.set_index(\"Metrics\", inplace=True)"
   ]
  },
  {
   "cell_type": "code",
   "execution_count": 92,
   "metadata": {},
   "outputs": [],
   "source": [
    "metrics_summary = round(metrics_summary[metrics_summary.columns],3)"
   ]
  },
  {
   "cell_type": "code",
   "execution_count": 93,
   "metadata": {},
   "outputs": [
    {
     "data": {
      "image/png": "[encoded data removed]",
      "text/plain": [
       "<Figure size 1080x720 with 2 Axes>"
      ]
     },
     "metadata": {
      "needs_background": "light"
     },
     "output_type": "display_data"
    }
   ],
   "source": [
    "fig, ax = plt.subplots(nrows=2, ncols=1, figsize=(15,10))\n",
    "ax = ax.ravel()\n",
    "\n",
    "for i, column in enumerate([\"Train Accuracy\",\"Test Accuracy\"]):\n",
    "    ax[i].bar(x = metrics_summary.T.index, height = metrics_summary.T[column], color=['salmon','coral'][i])\n",
    "    ax[i].axhline(0.5,color=\"red\",label=\"Baseline Model\")\n",
    "    ax[i].set_title(column + \" per Model Type\")\n",
    "    ax[i].set_xlabel(\"Models\")\n",
    "    ax[i].set_ylabel(column)"
   ]
  },
  {
   "cell_type": "code",
   "execution_count": 94,
   "metadata": {},
   "outputs": [
    {
     "data": {
      "text/html": [
       "<div>\n",
       "<style scoped>\n",
       "    .dataframe tbody tr th:only-of-type {\n",
       "        vertical-align: middle;\n",
       "    }\n",
       "\n",
       "    .dataframe tbody tr th {\n",
       "        vertical-align: top;\n",
       "    }\n",
       "\n",
       "    .dataframe thead th {\n",
       "        text-align: right;\n",
       "    }\n",
       "</style>\n",
       "<table border=\"1\" class=\"dataframe\">\n",
       "  <thead>\n",
       "    <tr style=\"text-align: right;\">\n",
       "      <th></th>\n",
       "      <th>Logistic Regression</th>\n",
       "      <th>Decision Tree Classifier</th>\n",
       "      <th>Random Forest Classifier</th>\n",
       "      <th>Extra Trees Classifier</th>\n",
       "      <th>Support Vector Machines</th>\n",
       "      <th>Naive Bayes</th>\n",
       "    </tr>\n",
       "    <tr>\n",
       "      <th>Metrics</th>\n",
       "      <th></th>\n",
       "      <th></th>\n",
       "      <th></th>\n",
       "      <th></th>\n",
       "      <th></th>\n",
       "      <th></th>\n",
       "    </tr>\n",
       "  </thead>\n",
       "  <tbody>\n",
       "    <tr>\n",
       "      <th>Train Accuracy</th>\n",
       "      <td>0.999</td>\n",
       "      <td>0.911</td>\n",
       "      <td>0.940</td>\n",
       "      <td>0.926</td>\n",
       "      <td>0.851</td>\n",
       "      <td>0.682</td>\n",
       "    </tr>\n",
       "    <tr>\n",
       "      <th>Test Accuracy</th>\n",
       "      <td>0.960</td>\n",
       "      <td>0.897</td>\n",
       "      <td>0.898</td>\n",
       "      <td>0.900</td>\n",
       "      <td>0.856</td>\n",
       "      <td>0.674</td>\n",
       "    </tr>\n",
       "    <tr>\n",
       "      <th>Test Sensitivity</th>\n",
       "      <td>0.975</td>\n",
       "      <td>0.925</td>\n",
       "      <td>0.942</td>\n",
       "      <td>0.960</td>\n",
       "      <td>0.969</td>\n",
       "      <td>0.996</td>\n",
       "    </tr>\n",
       "    <tr>\n",
       "      <th>Test Specificity</th>\n",
       "      <td>0.944</td>\n",
       "      <td>0.870</td>\n",
       "      <td>0.854</td>\n",
       "      <td>0.840</td>\n",
       "      <td>0.743</td>\n",
       "      <td>0.353</td>\n",
       "    </tr>\n",
       "    <tr>\n",
       "      <th>Test ROC-AUC Score</th>\n",
       "      <td>0.991</td>\n",
       "      <td>0.930</td>\n",
       "      <td>0.964</td>\n",
       "      <td>0.965</td>\n",
       "      <td>0.965</td>\n",
       "      <td>0.700</td>\n",
       "    </tr>\n",
       "  </tbody>\n",
       "</table>\n",
       "</div>"
      ],
      "text/plain": [
       "                    Logistic Regression  Decision Tree Classifier  \\\n",
       "Metrics                                                             \n",
       "Train Accuracy                    0.999                     0.911   \n",
       "Test Accuracy                     0.960                     0.897   \n",
       "Test Sensitivity                  0.975                     0.925   \n",
       "Test Specificity                  0.944                     0.870   \n",
       "Test ROC-AUC Score                0.991                     0.930   \n",
       "\n",
       "                    Random Forest Classifier  Extra Trees Classifier  \\\n",
       "Metrics                                                                \n",
       "Train Accuracy                         0.940                   0.926   \n",
       "Test Accuracy                          0.898                   0.900   \n",
       "Test Sensitivity                       0.942                   0.960   \n",
       "Test Specificity                       0.854                   0.840   \n",
       "Test ROC-AUC Score                     0.964                   0.965   \n",
       "\n",
       "                    Support Vector Machines  Naive Bayes  \n",
       "Metrics                                                   \n",
       "Train Accuracy                        0.851        0.682  \n",
       "Test Accuracy                         0.856        0.674  \n",
       "Test Sensitivity                      0.969        0.996  \n",
       "Test Specificity                      0.743        0.353  \n",
       "Test ROC-AUC Score                    0.965        0.700  "
      ]
     },
     "execution_count": 94,
     "metadata": {},
     "output_type": "execute_result"
    }
   ],
   "source": [
    "metrics_summary"
   ]
  },
  {
   "cell_type": "markdown",
   "metadata": {},
   "source": [
    "Overall we can observe a slight overfit for all models except for SVM, ranging from around a 1% to 4% difference between Train and Test. All models performed better than the baseline model as seen on the graphs above, but out of all 6 models Logistic Regression has the best overall performance."
   ]
  },
  {
   "cell_type": "markdown",
   "metadata": {},
   "source": [
    "### VII. Conclusion and Recommendation"
   ]
  },
  {
   "cell_type": "markdown",
   "metadata": {},
   "source": [
    "From the above results we can conclude that the best model for the client to use is Logistic Regression because it is able to accurately determine class with 96% accuracy and an ROC-AUC score of 99%. Although it is not as good in classifying true positives when compared to Naive Bayes (97.7% vs 99.6%) it is still relatively high and has the highest specificity score of 94%. A balance of the two is important in this case because we would not want to get many false positives (important messages not filtered out because it is categorized as legal-related when it is not) or false negatives (important messages filtered out because it is categorized as non-legal-related when it is). \n",
    "\n",
    "However I do recommend potentially trying different models (i.e. ensemble models like XGBoost) and/or removing features (limiting TFIDF Vectorized max features, lemmatizing or stemming words) to avoid overfitting. It is also possible to remove features that are reddit specific like number of comments and scores which would not necessarily add value for the client's purpose. "
   ]
  }
 ],
 "metadata": {
  "kernelspec": {
   "display_name": "Python 3",
   "language": "python",
   "name": "python3"
  },
  "language_info": {
   "codemirror_mode": {
    "name": "ipython",
    "version": 3
   },
   "file_extension": ".py",
   "mimetype": "text/x-python",
   "name": "python",
   "nbconvert_exporter": "python",
   "pygments_lexer": "ipython3",
   "version": "3.9.2"
  }
 },
 "nbformat": 4,
 "nbformat_minor": 4
}
